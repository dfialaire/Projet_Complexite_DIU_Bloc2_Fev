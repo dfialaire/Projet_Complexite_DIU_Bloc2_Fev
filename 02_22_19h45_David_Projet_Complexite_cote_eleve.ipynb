{
 "cells": [
  {
   "cell_type": "markdown",
   "metadata": {},
   "source": [
    "( Projet Eleves --> Correction / ce qui est attendu )\n",
    "<H1>Mesures empririques des temps de calcul d'algorithmes de tri :</H1>\n",
    "<H2>Comparaison avec les résultats théoriques.</H2>"
   ]
  },
  {
   "cell_type": "markdown",
   "metadata": {},
   "source": [
    "<u>Intro :</u>    ..."
   ]
  },
  {
   "cell_type": "markdown",
   "metadata": {},
   "source": [
    "<u>Contenu :</u>\n",
    "<li><span><a href=\"#-I-Le-tri-bulle-:-\" data-toc-modified-id=\"-Le-tri-bulle--1\"><span class=\"toc-item-num\">1&nbsp;&nbsp;</span> Le tri bulle </a></span></li>"
   ]
  },
  {
   "cell_type": "markdown",
   "metadata": {},
   "source": [
    "<u><h2> I Le tri bulle : </h2></u>\n",
    "<u><b>Principe : </b></u><br/>\n",
    "Le tri à bulles compare, deux à deux (soit une bulle), les éléments e1 et e2 consécutifs d'un tableau et effectue, en balayant le tableau, une permutation si e1 > e2.<br/>\n",
    "Les balayages du tableau se renouvellent (sur le tableau de borne supérieure réduite à chaque balayage : (complexité (n-Nb_balayage)  ) jusqu'à ce qu'il n'y ait eu aucune permutation nécessaire dans le balayage en cours.<br/>\n",
    "<u><b>Complexité : </b></u><br/>\n",
    "La complexité du 1er  balayage est de : n-1<br/>\n",
    "La complexité du 2ème balayage est de : n-2<br/>\n",
    "La complexité du 3ème balayage est de : n-3<br/>\n",
    "...<br/>\n",
    "La complexité de l'avant avant dernier balayage est de : n-(n-2) = 2<br/>\n",
    "La complexité de l'avant dernier balayage est de : n-(n-1) = 1<br/>\n",
    "La complexité du dernier balayage est de : n-n = 0<br/>\n",
    "---> La complexité totale est la somme de ces complexités, soit :<br/>\n",
    "C=0+1+2+...+(n-2)+(n-1)+n ==> D'où : la complexité est la somme des n entiers = [n (n-1 )] / 2<br/>\n",
    "<u><b>Complexité dans le pire cas : </b></u><br/>\n",
    "Dans le pire des cas,le tableau est déjà classé à l'envers : il faudra, non seulement, pour chaque balayage, inverser chaque bulle, mais aussi, réaliser tous les balayages à borne supérieure décroissante possible :<br/>\n",
    "la complexité sera en O(n²).<br/>\n",
    "<u><b>Complexité dans le cas facile : </b></u><br/>\n",
    "Dans le meilleur cas, le tableau est déjà classé, et le script ne réalise qu'un seul balayage de complexité (n-1) : <br/>\n",
    "la complexité sera en O(n).<br/>\n",
    "<u><b>Explication des jeux de tests présents dans le script : </b></u><br/>\n",
    "1) un test de precondition : Tous les éléments du tableau doivent être des nombres<br/>\n",
    "2) un test de postcondition : Le tableau final doit être trié<br/>\n",
    "...<br/>\n",
    "<u><b>Script : </b></u><br/>\n",
    "<u>Référence : </u> http://lwh.free.fr/pages/algo/tri/tri_bulle.html <br/>"
   ]
  },
  {
   "cell_type": "code",
   "execution_count": 1,
   "metadata": {},
   "outputs": [
    {
     "name": "stdout",
     "output_type": "stream",
     "text": [
      "\n",
      "voici la liste :  [12, 4, 7, 20, 3, 9]\n",
      "\n",
      "voici la même liste triée:  [3, 4, 7, 9, 12, 20]\n",
      "\n",
      "Nombre d'action atomique effectuées :  28\n"
     ]
    }
   ],
   "source": [
    "def tri_bulle(tableau,Nb_Action_atom):\n",
    "    longueur_tab=len(tableau)\n",
    "    for k in range(longueur_tab):\n",
    "        element=tableau[k]\n",
    "        typ_element=type(element)\n",
    "        assert(typ_element!=str),\"Tous les éléments du tableau doivent être des nombres\" # Pré-condition\n",
    "    #assert(type(tableau[k] for k in range(longueur_tab)) == int),\"Tous les éléments du tableau doivent être des nombres entiers\" # Pré-condition\n",
    "    permutation = True    \n",
    "    passage = 0\n",
    "    while permutation == True:\n",
    "        Nb_Action_atom=Nb_Action_atom+1\n",
    "        permutation = False\n",
    "        passage = passage + 1\n",
    "        for en_cours in range(0, len(tableau) - passage):\n",
    "            Nb_Action_atom=Nb_Action_atom+1\n",
    "            if tableau[en_cours] > tableau[en_cours + 1]:\n",
    "                Nb_Action_atom=Nb_Action_atom+1\n",
    "                permutation = True\n",
    "                # On echange les deux elements\n",
    "                tableau[en_cours], tableau[en_cours + 1] = tableau[en_cours + 1],tableau[en_cours]\n",
    "    return tableau,Nb_Action_atom\n",
    "    \n",
    "Nb_Action_atom=0\n",
    "liste_initiale=[12,4,7,20,3,9]\n",
    "print(\"\\nvoici la liste : \",liste_initiale)\n",
    "liste_triee,Nb_Action_atom=tri_bulle(liste_initiale,Nb_Action_atom)\n",
    "\n",
    "for k in range(len(liste_triee)-1):\n",
    "    i,j=liste_triee[k],liste_triee[k+1]\n",
    "    assert(i<j),\"Au final, le tableau doit être trié\" # Post-condition\n",
    "\n",
    "print(\"\\nvoici la même liste triée: \",liste_triee)\n",
    "print(\"\\nNombre d'action atomique effectuées : \",Nb_Action_atom)"
   ]
  },
  {
   "cell_type": "code",
   "execution_count": null,
   "metadata": {
    "scrolled": false
   },
   "outputs": [],
   "source": [
    "%matplotlib inline\n",
    "import numpy as np\n",
    "import matplotlib.pyplot as plt\n",
    "import random\n",
    "from timeit import default_timer as timer \n",
    "def create_plot(ptype):\n",
    "    # setting the x-axis vaues\n",
    "    x = taille\n",
    "    if ptype == 'temps_empirique':\n",
    "        y = temps_moy\n",
    "    if ptype == 'quadratique':\n",
    "        y = carres\n",
    "    elif ptype == 'comptage_theorique':\n",
    "        y = Nb_Action\n",
    "\n",
    "    return(x, y)\n",
    "#taille_tab=int(input(\"définissez une taille de tableau aléatoire (entre 10 - 10000) : \"))\n",
    "liste_temps=[]\n",
    "temps_moy=[]\n",
    "taille=[]\n",
    "Nb_Action=[]\n",
    "carres=[]\n",
    "for taille_tab in range(0,1000,100):\n",
    "    Nb_Action_atom=0\n",
    "    Nb_Action_atom = Nb_Action_atom+1\n",
    "    for Nb_essai in range(10):\n",
    "        Nb_Action_atom = Nb_Action_atom+1\n",
    "        tableau=random.sample(range(taille_tab*10),taille_tab)\n",
    "    #    print(\"\\ntableau initial : \",tableau)\n",
    "        random.shuffle(tableau)\n",
    "    #    print(\"\\ntableau mélangé : \",tableau)\n",
    "        start = timer()\n",
    "        tableau,Nb_Action_atom=tri_bulle(tableau,Nb_Action_atom)\n",
    "        end = timer()\n",
    "        temps=(end - start)\n",
    "    #    print(\"\\ndurée : \",temps,\" s\")\n",
    "        liste_temps.append(temps)\n",
    "    somme=sum(liste_temps)\n",
    "    #print(\"\\nsomme = \",somme,\" s\")\n",
    "    moyenne=somme/10\n",
    "    #print(\"\\nmoyenne = \",moyenne,\" s\")\n",
    "    temps_moy.append(moyenne)\n",
    "    taille.append(taille_tab)\n",
    "    carres.append(taille_tab**2)\n",
    "    Nb_Action.append(Nb_Action_atom)\n",
    "\n",
    "fig = plt.figure(figsize=(12, 4))\n",
    "\n",
    "plt.subplot(1, 3, 1)\n",
    "x, y = create_plot('temps_empirique')\n",
    "plt.plot(x, y, marker='+', color ='r')\n",
    "#plt.title('A tale of 2 subplots')\n",
    "plt.ylabel('Temps moyens (s)')\n",
    "plt.xlabel('Taille du tableau aléatoire')\n",
    "\n",
    "plt.subplot(1, 3, 2)\n",
    "x, y = create_plot('comptage_theorique')\n",
    "plt.plot(x, y,  color ='b')\n",
    "plt.ylabel('Nombre d\\'actions atomiques')\n",
    "plt.xlabel('Taille du tableau aléatoire')\n",
    "\n",
    "plt.subplot(1, 3, 3)\n",
    "x, y = create_plot('quadratique')\n",
    "plt.plot(x, y,  color ='r')\n",
    "plt.ylabel('y = x²')\n",
    "plt.xlabel('Taille du tableau aléatoire')\n",
    "\n",
    "fig.subplots_adjust(wspace=1.1)\n"
   ]
  },
  {
   "cell_type": "markdown",
   "metadata": {},
   "source": [
    "<u><b>Correspondance ? : </b></u><br/>\n",
    "La courbe des résultats empiriques (mesure des temps moyens en fonction des tailles des tableaux), présente la même forme que la courbe théorique (définie par le nombre d'actions atomiques en fonction des tailles des tableaux).<br/>\n",
    "<i><u>Ces profils semblent refléter un comportement quadratique (tel que y=x²) : cela confirme que le tri bulle est bien en O(n²).</u></i>"
   ]
  },
  {
   "cell_type": "code",
   "execution_count": null,
   "metadata": {},
   "outputs": [],
   "source": []
  }
 ],
 "metadata": {
  "kernelspec": {
   "display_name": "Python 3",
   "language": "python",
   "name": "python3"
  },
  "language_info": {
   "codemirror_mode": {
    "name": "ipython",
    "version": 3
   },
   "file_extension": ".py",
   "mimetype": "text/x-python",
   "name": "python",
   "nbconvert_exporter": "python",
   "pygments_lexer": "ipython3",
   "version": "3.7.3"
  }
 },
 "nbformat": 4,
 "nbformat_minor": 2
}
