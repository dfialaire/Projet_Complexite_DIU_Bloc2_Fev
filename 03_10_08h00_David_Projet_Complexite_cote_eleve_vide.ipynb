{
 "cells": [
  {
   "cell_type": "markdown",
   "metadata": {},
   "source": [
    "<H1>Titre :</H1>\n"
   ]
  },
  {
   "cell_type": "markdown",
   "metadata": {},
   "source": [
    "<u>Intro :</u>"
   ]
  },
  {
   "cell_type": "markdown",
   "metadata": {},
   "source": [
    "<u>Contenu :</u>\n",
    "<li><span><a href=\"#-I-Le-tri-bulle-:-\" data-toc-modified-id=\"-Le-tri-bulle-\"><span class=\"toc-item-num\">1&nbsp;&nbsp;</span> Le tri bulle </a></span></li>\n",
    "\n",
    "\n"
   ]
  },
  {
   "cell_type": "markdown",
   "metadata": {},
   "source": [
    "<u><h2> I Le tri bulle : </h2></u>\n",
    "<u><b>Principe : </b></u><br/>\n",
    "<br/>\n",
    "<u><b>Complexité : </b></u><br/>\n",
    "<br/>\n",
    "<u><b>Complexité dans le pire cas : </b></u><br/>\n",
    "<br/>\n",
    "<u><b>Complexité dans le cas facile : </b></u><br/>\n",
    "<br/>\n",
    "<u><b>Explication des jeux de tests (mélangés, triés croissants/décroissants) présents dans le script : </b></u><br/>\n",
    "<br/>\n",
    "<u><b>Script : </b></u><br/>\n",
    "<u>Référence : </u> http://Lien.html <br/>"
   ]
  },
  {
   "cell_type": "code",
   "execution_count": 1,
   "metadata": {},
   "outputs": [
    {
     "name": "stdout",
     "output_type": "stream",
     "text": [
      "\n",
      "voici la liste :  [12, 4, 7, 20, 3, 9]\n",
      "\n",
      "voici la même liste triée:  [12, 4, 7, 20, 3, 9]\n",
      "\n",
      "Nombre d'action atomique effectuées :  0\n"
     ]
    }
   ],
   "source": [
    "def tri_bulle(tableau,Nb_Action_atom):\n",
    "    \"\"\" Explications de votre fonction...\n",
    "    et de ses spécification.\"\"\"\n",
    "    return tableau,Nb_Action_atom\n",
    "    \n",
    "Nb_Action_atom=0\n",
    "liste_initiale=[12,4,7,20,3,9]\n",
    "print(\"\\nvoici la liste : \",liste_initiale)\n",
    "liste_triee,Nb_Action_atom=tri_bulle(liste_initiale,Nb_Action_atom)\n",
    "\n",
    "print(\"\\nvoici la même liste triée: \",liste_triee)\n",
    "print(\"\\nNombre d'action atomique effectuées : \",Nb_Action_atom)"
   ]
  },
  {
   "cell_type": "code",
   "execution_count": 2,
   "metadata": {
    "scrolled": false
   },
   "outputs": [],
   "source": [
    "def Presentation_resultats(Tri_souhaite,modele_melange,modele_tri_croissant,modele_tri_decroissant):\n",
    "    \"\"\" Explications de votre fonction...\n",
    "    et de ses spécification :\"\"\""
   ]
  },
  {
   "cell_type": "markdown",
   "metadata": {},
   "source": [
    "<img src=\"Image_Ex2.png\"  width=750px alt=\"\" />\n",
    "<img src=\"Image_Ex3.png\"  width=750px alt=\"\" />\n",
    "<img src=\"Image_Ex4.png\"  width=750px alt=\"\" />"
   ]
  },
  {
   "cell_type": "markdown",
   "metadata": {},
   "source": [
    "<u><b>Conclusions sur le tri bulle : </b></u><br/>\n",
    "...<br/>"
   ]
  },
  {
   "cell_type": "markdown",
   "metadata": {},
   "source": [
    "<u><h2> V Comparaison des différents tris : </h2></u>"
   ]
  },
  {
   "cell_type": "code",
   "execution_count": 3,
   "metadata": {
    "scrolled": true
   },
   "outputs": [],
   "source": [
    "def Presentation_comparaison_tris( critere_temps):\n",
    "    \"\"\" Explications de votre fonction...\n",
    "    et de ses spécification :\"\"\""
   ]
  },
  {
   "cell_type": "markdown",
   "metadata": {},
   "source": [
    "<img src=\"Image_Ex5.png\"  width=600px alt=\"\" />"
   ]
  },
  {
   "cell_type": "markdown",
   "metadata": {},
   "source": [
    "<u><b>Conclusions sur les temps obtenus par les différents tris : </b></u><br/>\n",
    "...<br/>"
   ]
  },
  {
   "cell_type": "code",
   "execution_count": 3,
   "metadata": {
    "scrolled": true
   },
   "outputs": [],
   "source": [
    "def Presentation_comparaison_tris( critere_Nb_action_atomique):\n",
    "    \"\"\" Explications de votre fonction...\n",
    "    et de ses spécification :\"\"\""
   ]
  },
  {
   "cell_type": "markdown",
   "metadata": {},
   "source": [
    "<img src=\"Image_Ex6.png\"  width=600px alt=\"\" />"
   ]
  },
  {
   "cell_type": "markdown",
   "metadata": {},
   "source": [
    "<u><b>Conclusions sur les nombre d'actions atomiques visualisés sur les différents tris : </b></u><br/>\n",
    "...<br/>"
   ]
  },
  {
   "cell_type": "code",
   "execution_count": null,
   "metadata": {},
   "outputs": [],
   "source": []
  }
 ],
 "metadata": {
  "kernelspec": {
   "display_name": "Python 3",
   "language": "python",
   "name": "python3"
  },
  "language_info": {
   "codemirror_mode": {
    "name": "ipython",
    "version": 3
   },
   "file_extension": ".py",
   "mimetype": "text/x-python",
   "name": "python",
   "nbconvert_exporter": "python",
   "pygments_lexer": "ipython3",
   "version": "3.7.3"
  }
 },
 "nbformat": 4,
 "nbformat_minor": 2
}
