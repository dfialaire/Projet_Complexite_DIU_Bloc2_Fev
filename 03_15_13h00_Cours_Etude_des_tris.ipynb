{
 "cells": [
  {
   "cell_type": "markdown",
   "metadata": {},
   "source": [
    "<h1> COURS </h1>\n",
    "<h2>Etude des tris : Notions de complexité</h2>"
   ]
  },
  {
   "cell_type": "markdown",
   "metadata": {},
   "source": [
    "<u>Sommaire :</u>\n",
    "<li><span><a href=\"#-Références-:-\" data-toc-modified-id=\"-Références-:-\"><span class=\"toc-item-num\"></span> Références </a></span></li>\n",
    "<li><span><a href=\"#-I.-Problématique-:-\" data-toc-modified-id=\"-I.-Problématique-\"><span class=\"toc-item-num\">I&nbsp;&nbsp;</span> Problématique </a></span></li>\n",
    "<li><span><a href=\"#-II.-Visualisation-des-tris-:-\" data-toc-modified-id=\"-II.-Visualisation-des-tris-:-\"><span class=\"toc-item-num\">II&nbsp;&nbsp;</span>Visualisation des <i>tris</i> : </a></span></li>\n",
    "<li><span><a href=\"#-III.-Algorithme-du-tri-par-insertion-:-\" data-toc-modified-id=\"-III.-Algorithme-du-tri-par-insertion-:-\"><span class=\"toc-item-num\">III&nbsp;&nbsp;</span>Agorithme du <i>tri par insertion</i> : </a></span></li>\n",
    "<li><span><a href=\"#-IV.-Implémentation-en-python-du-tri-par-insertion-:-\" data-toc-modified-id=\"-IV.-Implémentation-en-python-du-tri-par-insertion-:-\"><span class=\"toc-item-num\">IV&nbsp;&nbsp;</span><i>Implémentation</i> en python du tri par insertion : </a></span></li>\n",
    "<li><span><a href=\"#-V.-Etude-de-la-terminaison-du-tri-par-insertion-:-\" data-toc-modified-id=\"-V.-Etude-de-la-terminaison-du-tri-par-insertion-:-\"><span class=\"toc-item-num\">V&nbsp;&nbsp;</span>Etude de la <i>terminaison</i> du tri par insertion : </a></span></li>\n",
    "<li><span><a href=\"#-VI.-Preuve-de-l'agorithme-du-tri-par-insertion-:-Notions-d'invariant-de-boucle-:-\" data-toc-modified-id=\"-VI.-Preuve-de-l'agorithme-du-tri-par-insertion-:-Notions-d'invariant-de-boucle-:-\"><span class=\"toc-item-num\">VI&nbsp;&nbsp;</span><i>Preuve</i> de l'agorithme du tri par insertion : Notions d'<i>invariant de boucle</i> : </a></span></li>\n",
    "<li><span><a href=\"#-VII.-Notions-de-complexité-appliquée-au-tri-par-insertion-:-\" data-toc-modified-id=\"-VII.-Notions-de-complexité-appliquée-au-tri-par-insertion-:-\"><span class=\"toc-item-num\">VII&nbsp;&nbsp;</span>Notions de <i>complexité</i> appliquée au tri par insertion : </a></span></li>\n",
    "<li><span><a href=\"#-A.-Définition-:-Complexité-d'un-algorithme-:-\" data-toc-modified-id=\"-A-Définition-:-Complexité-d'un-algorithme-:-\"><span class=\"toc-item-num\">&nbsp;&nbsp;&nbsp;&nbsp;&nbsp;&nbsp;A.</span>Définition : Complexité d'un algorithme :</a></span></li>\n",
    "<li><span><a href=\"#-B.-Notion-d'opérations-élémentaires-:-\" data-toc-modified-id=\"-B.-Notion-d'opérations-élémentaires-:-\"><span class=\"toc-item-num\">&nbsp;&nbsp;&nbsp;&nbsp;&nbsp;&nbsp;B.</span>Notion d'opérations élémentaires :</a></span></li>\n",
    "<li><span><a href=\"#-C.-Application-au-tri-par-insertion-:-\" data-toc-modified-id=\"-C.-Application-au-tri-par-insertion-:-\"><span class=\"toc-item-num\">&nbsp;&nbsp;&nbsp;&nbsp;&nbsp;&nbsp;C.</span>Application au tri par insertion :</a></span></li>\n",
    "<li><span><a href=\"#-1)-Exercice-:-Calcul-du-nombre-d'actions-élémentaires-\" data-toc-modified-id=\"-1)-Exercice-:-Calcul-du-nombre-d'actions-élémentaires-\"><span class=\"toc-item-num\">&nbsp;&nbsp;&nbsp;&nbsp;&nbsp;&nbsp;&nbsp;&nbsp;&nbsp;&nbsp;&nbsp;&nbsp;1)</span>Exercice : Calcul du nombre d'actions élémentaires</a></span></li>\n",
    "<li><span><a href=\"#-2)-Détermination-du-temps-d'éxecution-d'un-algorihme-:-\" data-toc-modified-id=\"-2)-Détermination-du-temps-d'éxecution-d'un-algorihme-:-\"><span class=\"toc-item-num\">&nbsp;&nbsp;&nbsp;&nbsp;&nbsp;&nbsp;&nbsp;&nbsp;&nbsp;&nbsp;&nbsp;&nbsp;2)</span>Détermination du temps d'éxecution d'un algorihme : </a></span></li>\n",
    "<li><span><a href=\"#-3)-Compléxité-en-fonction-de-la-taille-des-données-:-Jeux-de-tests-et-graphes-\" data-toc-modified-id=\"-3)-Compléxité-en-fonction-de-la-taille-des-données-:-Jeux-de-tests-et-graphes-\"><span class=\"toc-item-num\">&nbsp;&nbsp;&nbsp;&nbsp;&nbsp;&nbsp;&nbsp;&nbsp;&nbsp;&nbsp;&nbsp;&nbsp;3)</span>Compléxité en fonction de la taille des données : Jeux de tests et graphes</a></span></li>\n",
    "\n"
   ]
  },
  {
   "cell_type": "markdown",
   "metadata": {},
   "source": [
    "<h2><u> I. Problématique : </u></h2>"
   ]
  },
  {
   "cell_type": "markdown",
   "metadata": {},
   "source": [
    "<i>Comment ranger des données afin de faciliter leur accès futur ?<br/>\n",
    "C’est par exemple l’ordre alphabétique du dictionnaire, où les mots sont rangés dans un ordre logique qui permet\n",
    "de ne pas devoir parcourir tout l’ouvrage pour retrouver une définition.<br/>\n",
    "Ce peut être aussi l’ordre intuitif dans lequel un joueur de cartes va ranger son jeu afin de limiter le temps de recherche pendant le déroulement de la partie.</i><br/>"
   ]
  },
  {
   "cell_type": "markdown",
   "metadata": {},
   "source": [
    "<h2><u> II. Visualisation des tris : </u></h2>\n",
    "<h4>Voici deux exemples visuels de tri : <h4>\n",
    "-->Observez ces tris et proposez une explication de leur fonctionnement.\n",
    "    <h3><b>* Le tri sélection :</b></h3>\n",
    "    Essayez de comprendre à quoi correspond :<br/>\n",
    "    - Le fond blanc ;<br/>\n",
    "        - Le fond rouge ;<br/>\n",
    "        - Le fond bleu ;<br/>\n",
    "        - Le fond jaune ;<br/>"
   ]
  },
  {
   "cell_type": "markdown",
   "metadata": {},
   "source": [
    "<a title=\"Joestape89 at the English language Wikipedia [GFDL (http://www.gnu.org/copyleft/fdl.html) or CC-BY-SA-3.0 (http://creativecommons.org/licenses/by-sa/3.0/)], via Wikimedia Commons\" href=\"http://commons.wikimedia.org/wiki/File%3ASelection-Sort-Animation.gif\" target=\"not_lyceum\"><img class=\"center\" alt=\"Selection-Sort-Animation\" src=\"//upload.wikimedia.org/wikipedia/commons/9/94/Selection-Sort-Animation.gif\" width=\"64\"></a>"
   ]
  },
  {
   "cell_type": "markdown",
   "metadata": {},
   "source": [
    "<u>Vos propositions d'explication :</u>"
   ]
  },
  {
   "cell_type": "markdown",
   "metadata": {},
   "source": [
    "<h3><br/><b>* Le tri insertion :</b></h3>\n",
    "    Essayez de comprendre à quoi correspondent :<br/>\n",
    "    - Les chiffres non encadrés ;<br/>\n",
    "        - Les chiffres encadrés en noir ;<br/>\n",
    "        - Les chiffres encadrés en rouge ;<br/>"
   ]
  },
  {
   "cell_type": "markdown",
   "metadata": {},
   "source": [
    "<img crossorigin=\"anonymous\" src=\"https://upload.wikimedia.org/wikipedia/commons/0/0f/Insertion-sort-example-300px.gif\" class=\"gif\" >"
   ]
  },
  {
   "cell_type": "markdown",
   "metadata": {},
   "source": [
    "<u>Vos propositions d'explication :</u>"
   ]
  },
  {
   "cell_type": "markdown",
   "metadata": {},
   "source": [
    "<h2><u> III. Algorithme du tri par insertion : </u></h2>"
   ]
  },
  {
   "cell_type": "markdown",
   "metadata": {},
   "source": [
    "<img src=\"Insertion-Sort.jpg\"  width=250px alt=\"\" />"
   ]
  },
  {
   "cell_type": "markdown",
   "metadata": {},
   "source": [
    "Dans l'algorithme, on parcourt le tableau à trier du début à la fin. Au moment où on considère le i-ème élément, les éléments qui le précèdent sont déjà triés.<br/><br/>\n",
    "<i>Pour faire l'analogie avec l'exemple du jeu de cartes, lorsqu'on est à la i-ème étape du parcours, le i-ème élément est la carte saisie, les éléments précédents sont la main triée et les éléments suivants correspondent aux cartes encore en désordre sur la table.</i><br/>"
   ]
  },
  {
   "cell_type": "markdown",
   "metadata": {},
   "source": [
    "<u><b>Algorithme (en pseudo-code) : </b></u>"
   ]
  },
  {
   "cell_type": "markdown",
   "metadata": {},
   "source": [
    "  procédure tri_insertion(tableau T)<br/>\n",
    "       &nbsp;&nbsp;&nbsp;&nbsp;&nbsp;&nbsp;n ← taille(T)<br/>\n",
    "       &nbsp;&nbsp;&nbsp;&nbsp;&nbsp;&nbsp;pour i de 1 à n - 1\n",
    "\n",
    "            # mémoriser T[i] dans x\n",
    "            x ← T[i]                            \n",
    "\n",
    "            # décaler vers la droite les éléments de T[0]..T[i-1] qui sont plus grands que x en partant de T[i-1]\n",
    "            j ← i                               \n",
    "            tant que j > 0 et T[j - 1] > x\n",
    "                     T[j] ← T[j - 1]\n",
    "                     j ← j - 1\n",
    "\n",
    "            # placer x dans le \"trou\" laissé par le décalage\n",
    "            T[j] ← x  "
   ]
  },
  {
   "cell_type": "markdown",
   "metadata": {},
   "source": [
    "<u><b>Exercice : </b></u><br/>\n",
    "<i>En utilisant l'algorithme ci-dessus et ce tableau à trier : \ttableau=[6, 5, 3, 1, 8, 7, 2, 4],<br/>\n",
    "    remplir le tableau d'avancement (sur papier ou dans ce notebook ci-dessous) de l'algorithme :"
   ]
  },
  {
   "cell_type": "markdown",
   "metadata": {},
   "source": [
    "|variables              |     1ère étape     |     2ème étape     |     3ème étape    |     4ème étape    |\n",
    "|-----------------------|--------------------|--------------------|-------------------|-------------------|\n",
    "| n                     | 8                  |                    |                   |                   |\n",
    "| i                     | 1                  |                    |                   |                   |\n",
    "| x                     | 5                  |                    |                   |                   |\n",
    "| j                     | 1                  |                    |                   |                   |\n",
    "| j>0 et T[j-1]>x ?     | oui (6>5)          |                    |                   |                   |\n",
    "|    si oui             |                    |                    |                   |                   |\n",
    "| T[ j ]                | T[ 1 ]=T[ 0 ]=6    |                    |                   |                   |\n",
    "| j                     | 0                  |                    |                   |                   |\n",
    "|    si non             | non                |                    |                   |                   |\n",
    "| T[ j ]                | 5                  |                    |                   |                   |\n",
    "| Tableau à cette étape | [5,6,3,1,8,7,2,4]  | [#,#,#,#,#,#,#,#]  | [#,#,#,#,#,#,#,#] | [#,#,#,#,#,#,#,#] |"
   ]
  },
  {
   "cell_type": "markdown",
   "metadata": {},
   "source": [
    "|variables              |     5ème étape     |     6ème étape     |     7ème étape    |     8ème étape    |\n",
    "|-----------------------|--------------------|--------------------|-------------------|-------------------|\n",
    "| n                     |                    |                    |                   |                   |\n",
    "| i                     |                    |                    |                   |                   |\n",
    "| x                     |                    |                    |                   |                   |\n",
    "| j                     |                    |                    |                   |                   |\n",
    "| j>0 et T[j-1]>x ?     |                    |                    |                   |                   |\n",
    "|    si oui             |                    |                    |                   |                   |\n",
    "| T[ j ]                |                    |                    |                   |                   |\n",
    "| j                     |                    |                    |                   |                   |\n",
    "|    si non             |                    |                    |                   |                   |\n",
    "| T[ j ]                |                    |                    |                   |                   |\n",
    "| Tableau à cette étape | [#,#,#,#,#,#,#,#]  | [#,#,#,#,#,#,#,#]  | [#,#,#,#,#,#,#,#] | [#,#,#,#,#,#,#,#] |"
   ]
  },
  {
   "cell_type": "markdown",
   "metadata": {},
   "source": [
    "<h2><u> IV. Implémentation en python du tri par insertion : </u></h2>\n",
    "--> Executez le code python ci-dessous, et vérifiez que vous en comprenez chaque étape :"
   ]
  },
  {
   "cell_type": "code",
   "execution_count": 1,
   "metadata": {
    "scrolled": false
   },
   "outputs": [
    {
     "name": "stdout",
     "output_type": "stream",
     "text": [
      "[6, 5, 3, 1, 8, 7, 2, 4]  : Voici le tableau initial : \n",
      "n =  8\n",
      "--------------------------------------------------------------------------------\n",
      "i=  1\n",
      "Valeur récupérée à insérer à la bonne place : x =  5\n",
      "j=  1\n",
      "[6, 6, 3, 1, 8, 7, 2, 4]  : On a décalé, vers la droite, les valeurs (en j-1) plus grandes que x : \n",
      "j prend à présent la valeur de :  0\n",
      "[5, 6, 3, 1, 8, 7, 2, 4]  : Et finalement, on insère notre valeur stockée (x) à la bonne place (en j) : \n",
      "--------------------------------------------------------------------------------\n",
      "i=  2\n",
      "Valeur récupérée à insérer à la bonne place : x =  3\n",
      "j=  2\n",
      "[5, 6, 6, 1, 8, 7, 2, 4]  : On a décalé, vers la droite, les valeurs (en j-1) plus grandes que x : \n",
      "j prend à présent la valeur de :  1\n",
      "[5, 5, 6, 1, 8, 7, 2, 4]  : On a décalé, vers la droite, les valeurs (en j-1) plus grandes que x : \n",
      "j prend à présent la valeur de :  0\n",
      "[3, 5, 6, 1, 8, 7, 2, 4]  : Et finalement, on insère notre valeur stockée (x) à la bonne place (en j) : \n",
      "--------------------------------------------------------------------------------\n",
      "i=  3\n",
      "Valeur récupérée à insérer à la bonne place : x =  1\n",
      "j=  3\n",
      "[3, 5, 6, 6, 8, 7, 2, 4]  : On a décalé, vers la droite, les valeurs (en j-1) plus grandes que x : \n",
      "j prend à présent la valeur de :  2\n",
      "[3, 5, 5, 6, 8, 7, 2, 4]  : On a décalé, vers la droite, les valeurs (en j-1) plus grandes que x : \n",
      "j prend à présent la valeur de :  1\n",
      "[3, 3, 5, 6, 8, 7, 2, 4]  : On a décalé, vers la droite, les valeurs (en j-1) plus grandes que x : \n",
      "j prend à présent la valeur de :  0\n",
      "[1, 3, 5, 6, 8, 7, 2, 4]  : Et finalement, on insère notre valeur stockée (x) à la bonne place (en j) : \n",
      "--------------------------------------------------------------------------------\n",
      "i=  4\n",
      "Valeur récupérée à insérer à la bonne place : x =  8\n",
      "j=  4\n",
      "[1, 3, 5, 6, 8, 7, 2, 4]  : Et finalement, on insère notre valeur stockée (x) à la bonne place (en j) : \n",
      "--------------------------------------------------------------------------------\n",
      "i=  5\n",
      "Valeur récupérée à insérer à la bonne place : x =  7\n",
      "j=  5\n",
      "[1, 3, 5, 6, 8, 8, 2, 4]  : On a décalé, vers la droite, les valeurs (en j-1) plus grandes que x : \n",
      "j prend à présent la valeur de :  4\n",
      "[1, 3, 5, 6, 7, 8, 2, 4]  : Et finalement, on insère notre valeur stockée (x) à la bonne place (en j) : \n",
      "--------------------------------------------------------------------------------\n",
      "i=  6\n",
      "Valeur récupérée à insérer à la bonne place : x =  2\n",
      "j=  6\n",
      "[1, 3, 5, 6, 7, 8, 8, 4]  : On a décalé, vers la droite, les valeurs (en j-1) plus grandes que x : \n",
      "j prend à présent la valeur de :  5\n",
      "[1, 3, 5, 6, 7, 7, 8, 4]  : On a décalé, vers la droite, les valeurs (en j-1) plus grandes que x : \n",
      "j prend à présent la valeur de :  4\n",
      "[1, 3, 5, 6, 6, 7, 8, 4]  : On a décalé, vers la droite, les valeurs (en j-1) plus grandes que x : \n",
      "j prend à présent la valeur de :  3\n",
      "[1, 3, 5, 5, 6, 7, 8, 4]  : On a décalé, vers la droite, les valeurs (en j-1) plus grandes que x : \n",
      "j prend à présent la valeur de :  2\n",
      "[1, 3, 3, 5, 6, 7, 8, 4]  : On a décalé, vers la droite, les valeurs (en j-1) plus grandes que x : \n",
      "j prend à présent la valeur de :  1\n",
      "[1, 2, 3, 5, 6, 7, 8, 4]  : Et finalement, on insère notre valeur stockée (x) à la bonne place (en j) : \n",
      "--------------------------------------------------------------------------------\n",
      "i=  7\n",
      "Valeur récupérée à insérer à la bonne place : x =  4\n",
      "j=  7\n",
      "[1, 2, 3, 5, 6, 7, 8, 8]  : On a décalé, vers la droite, les valeurs (en j-1) plus grandes que x : \n",
      "j prend à présent la valeur de :  6\n",
      "[1, 2, 3, 5, 6, 7, 7, 8]  : On a décalé, vers la droite, les valeurs (en j-1) plus grandes que x : \n",
      "j prend à présent la valeur de :  5\n",
      "[1, 2, 3, 5, 6, 6, 7, 8]  : On a décalé, vers la droite, les valeurs (en j-1) plus grandes que x : \n",
      "j prend à présent la valeur de :  4\n",
      "[1, 2, 3, 5, 5, 6, 7, 8]  : On a décalé, vers la droite, les valeurs (en j-1) plus grandes que x : \n",
      "j prend à présent la valeur de :  3\n",
      "[1, 2, 3, 4, 5, 6, 7, 8]  : Et finalement, on insère notre valeur stockée (x) à la bonne place (en j) : \n",
      "\n",
      "Voici le tableau trié:\n",
      "[1, 2, 3, 4, 5, 6, 7, 8]\n"
     ]
    }
   ],
   "source": [
    "tableau=[6, 5, 3, 1, 8, 7, 2, 4]\n",
    "print(tableau,\" : Voici le tableau initial : \")\n",
    "n = len(tableau)\n",
    "print(\"n = \",n)\n",
    "for i in range(1, len(tableau)): # On parcours l'ensemble de la liste à partir de la deuxième case\n",
    "    print('-' * 80)\n",
    "    print(\"i= \", i)\n",
    "    x = tableau[i] # on stocke la valeur à \"insérer\"\n",
    "    print(\"Valeur récupérée à insérer à la bonne place : x = \", x)\n",
    "    j = i\n",
    "    print(\"j= \", j)\n",
    "    while j >0 and tableau[j-1] > x :# On parcours le tableau déjà trié de dimension i-1 vers la gauche\n",
    "                                    # tant qu'on a pas atteind la borne inférieure du tableau (j=0)\n",
    "                                    # tant qu'on a pas rencontré une valeur inférieure à notre valeur à insérer\n",
    "        tableau[j] = tableau[j-1] # On intervertit les valeurs aux indices j et j-1\n",
    "        print(tableau,\" : On a décalé, vers la droite, les valeurs (en j-1) plus grandes que x : \")\n",
    "        j = j - 1 # On décale vers la gauche notre cadre de lecture\n",
    "        print(\"j prend à présent la valeur de : \",j)\n",
    "    tableau[j] = x # Une fois qu'on a trouvé qu'en j-1 se trouvait une plus petite valeur que x...\n",
    "                    # on peut alors placer notre valeur à insérer en j\n",
    "    print(tableau,\" : Et finalement, on insère notre valeur stockée (x) à la bonne place (en j) : \")\n",
    "print('\\nVoici le tableau trié:')\n",
    "print(tableau)"
   ]
  },
  {
   "cell_type": "markdown",
   "metadata": {},
   "source": [
    "<u><b>Ouvrez, <i>dans un autre onglet</i>, le lien Python-Tutor ci-dessous : </b></u><br/>\n",
    "... parcourez l'ensemble des étapes pour vous assurer que vous avez bien compris le processus de ce tris par insertion."
   ]
  },
  {
   "cell_type": "markdown",
   "metadata": {},
   "source": [
    "http://www.pythontutor.com/visualize.html#code=tableau%3D%5B6,%205,%203,%201,%208,%207,%202,%204%5D%0Afor%20i%20in%20range%281,len%28tableau%29%29%3A%0A%20%20%20%20en_cours%20%3D%20tableau%5Bi%5D%0A%20%20%20%20j%20%3D%20i%0A%20%20%20%20%23d%C3%A9calage%20des%20%C3%A9l%C3%A9ments%20du%20tableau%20%7D%0A%20%20%20%20while%20j%3E0%20and%20tableau%5Bj-1%5D%3Een_cours%3A%0A%20%20%20%20%20%20%20%20tableau%5Bj%5D%3Dtableau%5Bj-1%5D%0A%20%20%20%20%20%20%20%20j%20%3D%20j-1%0A%20%20%20%20%23on%20ins%C3%A8re%20l'%C3%A9l%C3%A9ment%20%C3%A0%20sa%20place%0A%20%20%20%20tableau%5Bj%5D%3Den_cours&cumulative=false&curInstr=34&heapPrimitives=nevernest&mode=display&origin=opt-frontend.js&py=3&rawInputLstJSON=%5B%5D&textReferences=false"
   ]
  },
  {
   "cell_type": "markdown",
   "metadata": {},
   "source": [
    "<h2><u> V. Etude de la <i>terminaison</i> du tri par insertion : </u></h2>"
   ]
  },
  {
   "cell_type": "markdown",
   "metadata": {},
   "source": [
    "La boucle itérative (ligne 5) ne pose aucun problème. Par contre, une boucle conditionnelle (ligne 12)\n",
    "est informatiquement dangereuse car il se peut qu'elle ne se termine jamais !<br/>\n",
    "Dans notre algorithme, la condition de la boucle conditionnelle est de la forme \"Condition1 <b>et</b> Condition2\" :&nbsp;&nbsp;while j >0 <b>and</b> tableau[j-1] > x :<br/><br/>\n",
    "Dans quel(s) cas cette boucle inconditionnelle s'arrête ?<br/><br/>\n",
    "<details>\n",
    "    <summary><u>* Réponse (cliquez) :</u></summary>\n",
    "    Cette boucle inconditionnelle s'arrête quand <b>non</b>(C1 <b>et</b> C2) est vérifiée..\n",
    "<details><br/>\n",
    "<summary>Or, non(C1 et C2) est vérifiée quand... <br/><br/>\n",
    "    <u>* Réponse (cliquez) :</u></summary>\n",
    "    quand non(C1) <b>ou</b> non(C2) sont vérifiées :\n",
    "    --> il faut au moins qu'une des conditions soit vérifiée pour arrêter la boucle ! (Ref. Algèbre Booléenne)<br/><br/>\n",
    "<details><summary><u>* CONCLUSION (cliquez) :</u></summary>\n",
    "Or justement, dans notre boucle conditionnelle, j est décrémenté (ligne 17) ;<br/>\n",
    "--> Dès lors on s'assure que <b>la condition</b> j>0 ne sera plus remplie à une certaine étape ;<br/><br/>\n",
    "    ==> <i><b>Donc, cela nous assure que l'algorithme se termine.</b></i>\n",
    "</details>"
   ]
  },
  {
   "cell_type": "markdown",
   "metadata": {},
   "source": [
    "<h2><u> VI. Preuve de l'agorithme du tri par insertion : Notions d'invariant de boucle : </u></h2>"
   ]
  },
  {
   "cell_type": "markdown",
   "metadata": {},
   "source": [
    "Posons P(i) la propriété :\n",
    "    P(i) : \"le tableau [ T[0],T[1], ... , T[i-1]] est <b>toujours trié</b>\" <br/><br/>\n",
    "--> <i>On peut montrer que <b>pour tout i</b> (boucle itérative) varant de 1 à n-1 : <b>p(i) est vraie</b>.</i><br/><br/>\n",
    "<details><summary> <u>* En début de boucle (cliquez) :</u></summary>\n",
    "    Quand i=1, P(i) --> T[i-1]=T[0] est-il trié ?<br/><br/>\n",
    "<details><summary><u>Réponse (cliquez) :</u></summary>  T[0] est tout seul dans le tableau : donc il est forcément trié.<br/>\n",
    "    <b><i>--> Donc en début de boucle, l'invariant est vrai.</i></b><br/><br/>\n",
    " <details><summary> <u>* A l'intérieur de la boucle (cliquez) :</u></summary>\n",
    "    Quand i=4 par exemple, P(i) --> [T[i-4],T[i-3],T[i-2],T[i-1]]&nbsp;&nbsp;=&nbsp;&nbsp;[T[0],T[1],T[2],T[3]] est-il trié ?<br/><br/>\n",
    "<details><summary><u>Réponse (cliquez) :</u></summary>A ce stade, il n'y a que les valeurs aux index i=4 et plus qui ne sont pas triées : en dessous, elles le sont toutes.<br/>\n",
    "    <b><i>--> Donc à l'intérieur de la boucle, l'invariant est toujours vrai.</i></b><br/><br/>\n",
    "  <details><summary> <u>* A la fin de la boucle (cliquez) :</u></summary>\n",
    "    Quand i=n-1=7 dans cet exemple, P(i) --> [T[i-7],T[i-6],T[i-5],T[i-4],T[i-3],T[i-2],T[i-1]]&nbsp;&nbsp;=&nbsp;&nbsp;[T[0],T[1],T[2],T[3],T[4],T[5],T[6]] est-il trié ?<br/><br/>\n",
    "<details><summary><u>Réponse (cliquez) :</u></summary>A la toute fin, il n'y a que la dernière valeur du tableau qui n'est pas triée : en dessous, elles le sont toutes.<br/>\n",
    "    <b><i>--> Donc à la fin de la boucle, l'invariant est toujours vrai.</i></b><br/><br/>\n",
    "    <details><summary> <u><b>==> CONCLUSION (cliquez) :</b></u></summary><br/>\n",
    "        <h3>Puisque l'invariant est toujours vrai, alors l'algorithme est correct !</h3></details>  "
   ]
  },
  {
   "cell_type": "markdown",
   "metadata": {},
   "source": [
    "<h2><u> VII. Notions de complexité appliquée au tri par insertion : </u></h2>\n",
    "<h4><u> A. Définition : Complexité d'un algorithme : </u></h4><br/>\n",
    "* La <b>complexité</b> d’un algorithme est le <b>nombre d’opérations élémentaires</b> qu’il doit effectuer pour mener à bien un calcul <b>en fonction de la taille des données d’entrée</b>.<br/><br/>\n",
    "* Pour certains auteurs : L’<b>efficacité</b> d’un algorithme est mesurée par l’<b>augmentation du temps de calcul</b> en fonction du nombre des données.<br/><br/>\n",
    "<i>Finalement, nous cherchons à  calculer la complexité des algorithmes qui ne dépendra  ni  de l’ordinateur, ni du langage utilisé, ni du programmeur, ni de l’implémentation.</i><br/>\n",
    "<h4><u> B. Notion d'opérations élémentaires : </u></h4><br/>\n",
    "-->Pour cela,nous allons nous mettre dans le cas où nous utilisons un ordinateur RAM (RandomAccessMachine), soit :<br/><br/>\n",
    "<li>– Un ordinateur idéalisé;</li>\n",
    "<li>– Une mémoire infinie;</li>\n",
    "<li>– Un accès à la mémoire en temps constant;</li>\n",
    "<li>– Un processeur unique (pas d’opérations simultanées).</li><br/>\n",
    "Pour connaître le temps de calcul, il nous suffit de déterminer le nombre d’opérations élémentaires exécutées par l’algorithme.<br/><br/>\n",
    "<details><summary>... Mais <i><b>qu'est-ce qu'une opération élémentaires ?</b></i> (cliquez) :</summary><br/>\n",
    "    <u>On pourra considérer comme opération élémentaire :</u><br/><br/>\n",
    "<li>– Une affectation : Ex : a=2 ==> 1 unité de temps.</li>\n",
    "<li>– Une comparaison : Ex : 2 plus petit que 3 ? ==> 1 unité de temps.</li>\n",
    "<li>– Un accès à la mémoire : Ex : a=? ==> 1 unité de temps.</li>\n",
    "<li>– Une opération arithmétique : Ex : 2+3=? ==> 1 unité de temps.</li></details>\n",
    "<h4><u> C. Application au tri par insertion : </u></h4><br/>\n",
    "<h5><u> 1) Exercice : Calcul du nombre d'actions élémentaires </u></h5><br/>\n",
    "Dans le Code python du tri par insertion, ci-dessous, rajoutez :<br/><br/>\n",
    "_ une initialisation de notre variable de comptage :<br/>\n",
    "<i><b>Nombre_action_elementaire=0 ; </b></i><br/><br/>\n",
    "_ et autant d'incrémentations du nombre d'actions élémentaires que vous repérez : <br/>\n",
    "<i><b>Nombre_action_elementaire+=1</b></i>"
   ]
  },
  {
   "cell_type": "code",
   "execution_count": null,
   "metadata": {},
   "outputs": [],
   "source": [
    "tableau=[6, 5, 3, 1, 8, 7, 2, 4]\n",
    "print('\\nVoici le tableau initial : ',tableau)\n",
    "n = len(tableau)\n",
    "for i in range(1, len(tableau)): \n",
    "    x = tableau[i] \n",
    "    j = i\n",
    "    while j >0 and tableau[j-1] > x :\n",
    "        tableau[j] = tableau[j-1] \n",
    "        j = j - 1 \n",
    "    tableau[j] = x \n",
    "print('\\nVoici le tableau trié : ',tableau)\n",
    "print(\"\\nEt voici le nombre d'actions élémentaires : \",Nombre_action_elementaire)"
   ]
  },
  {
   "cell_type": "markdown",
   "metadata": {},
   "source": [
    "<li><span><a href=\"#-Solution-:-Détermination-du-nombre-d'actions-élémentaires-:-\" data-toc-modified-id=\"-Solution-:-Détermination-du-nombre-d'actions-élémentaires-:-\"><span class=\"toc-item-num\"></span>Solution (Ne cliquez pas avant d'avoir obtenu un résultat)</a></span></li>\n"
   ]
  },
  {
   "cell_type": "markdown",
   "metadata": {},
   "source": [
    "<h5><u> 2) Détermination du temps d'éxecution d'un algorihme : </u></h5>\n",
    "<br/><br/>\n",
    "Ci-dessous, vous observez un algorithme contenant une boucle (énorme !). Cet algorithme va prendre une quinzaine de secondes avant d'afficher son résultat.<br/><br/>"
   ]
  },
  {
   "cell_type": "code",
   "execution_count": null,
   "metadata": {},
   "outputs": [],
   "source": [
    "from timeit import default_timer as timer \n",
    "debut = timer()\n",
    "# Exemple d'algorithme qui prend du temps #\n",
    "for a in range(100000000):\n",
    "    b = a/2\n",
    "###########################################\n",
    "fin = timer()\n",
    "temps =(fin - debut)\n",
    "print(temps)"
   ]
  },
  {
   "cell_type": "markdown",
   "metadata": {},
   "source": [
    "<details><summary>Executez le code, et précisez quelle est l'unité du résultat obtenu ? (Cliquez quand vous avez une réponse)</summary><br/>--> L'unité du résultat obtenu est donc : seconde.<br/><br/>\n",
    "--> <b><i>Etudiez ce petit algorithme (ci-dessus) de mesure du temps, et rédigez dans la cellule vide ci-dessous, le <u>principe</u> de son fonctionnement :</i></b>"
   ]
  },
  {
   "cell_type": "markdown",
   "metadata": {},
   "source": [
    "<u>Principe : </u><br/>"
   ]
  },
  {
   "cell_type": "markdown",
   "metadata": {},
   "source": [
    "<h5><u> 3) Compléxité en fonction de la taille des données : Jeux de tests et graphes </u></h5><br/>\n",
    "Comme on l'a dit précédemment, la <b>complexité</b> d’un algorithme est le <b>nombre d’opérations élémentaires</b> qu’il doit effectuer pour mener à bien sa tache <b>en fonction de la taille des données d’entrée</b>.<br/><br/>\n",
    "<b><u>Sous entendu </u></b><i>: Peut être que si on augmente la taille de notre tableau par 2, la durée d'action de notre algorithme ne va pas être augmentée par 2 !!?...</i><br/><br/>\n",
    "--> Autrement dit, l'évolution de la durée d'action de l'algorithme en fonction de la taille des données d'entrée ne serait pas forcément une fonction ..? ..une fonction quoi ..?<br/><br/>\n",
    "<details><summary>..(cliquez après avoir répondu)</summary>..pas forcément une fonction linéraire.<br/><br/>\n",
    "--> Il nous faut donc <u>modifier la taille</u> des données d'entrée de notre tri par insertion (ici la <i><b>taille du tableau</b></i>) <u>pour en évaluer sa  complexité</u> :<br/>\n",
    "==> Les différentes tailles des données d'entrée sont ce que l'on nomme : <b>Jeux de tests</b><br/><br/>\n",
    "<details><summary>..suite (cliquez)</summary><br/>\n",
    "    <u>Conseils :</u><br/>\n",
    "    Les jeux de tests ne doivent :<br/>\n",
    "<b>- ni être trop petit </b>: sinon, les résultats ne sont pas représentatifs des processus qui se déroulent..<br/>\n",
    "<b>- ni être trop grand </b>: sinon, l'algorithme risque de planter l'ordinateur !<br/><br/>\n",
    "&nbsp;&nbsp;&nbsp;&nbsp;&nbsp;&nbsp;i. <u>Jeux de tests et hasard : module random</u><br/><br/>\n",
    "    Pour l'exemple du cours, nous allons donc travailler sur les <u>jeux de tests</u> : 10 à 100 : Mais, <i><b>sachez que pour des algorithmes de tri, ce n'est pas considéré comme suffisant</b></i> (--> il vous faudra donc trouver Mieux lors de la réalisation de votre mini-projet..)<br/><br/>\n",
    "    <u>Ps</u> : On ne va pas pouvoir générer, aisément à la main, des tableaux de 100 items différents à trier.. <br/>--> Voici donc un petit algorithme utilisant le module python nomé 'random' :<br/>\n",
    "    ==> Vous noterez que les 5 valeurs sont choisies au hasard et qu'elles ne sont pas triées dans le tableau !"
   ]
  },
  {
   "cell_type": "code",
   "execution_count": null,
   "metadata": {},
   "outputs": [],
   "source": [
    "import random\n",
    "tableau=random.sample(range(1,11),5) # intervalle=range(1,11) = valeurs autorisées de 1 à 10 !!\n",
    "                                    # la valeur 5 renseigne sur le nombre d'items du tableau\n",
    "print(tableau)"
   ]
  },
  {
   "cell_type": "markdown",
   "metadata": {},
   "source": [
    "--> <b><i>Etudiez ce petit algorithme (ci-dessus) de création de tableaux, et rédigez, dans la cellule vide ci-dessous, son <u>principe</u> de fonctionnement :</i></b>"
   ]
  },
  {
   "cell_type": "markdown",
   "metadata": {},
   "source": [
    "<u>Principe : </u><br/>"
   ]
  },
  {
   "cell_type": "markdown",
   "metadata": {},
   "source": [
    "<b><u>Exercice : </u></b>"
   ]
  },
  {
   "cell_type": "code",
   "execution_count": null,
   "metadata": {},
   "outputs": [],
   "source": [
    "import random\n",
    "for taille_tab in range(1,100,10):\n",
    "    for Nb_essai in range(2):\n",
    "        tableau=random.sample(range(taille_tab*10),taille_tab)\n",
    "        print(\"taille_tab = \",taille_tab)\n",
    "        print(tableau)\n",
    "        pause=input(\"Appuyez sur entrée..\")"
   ]
  },
  {
   "cell_type": "markdown",
   "metadata": {},
   "source": [
    "--> <b><i>Etudiez (et exécutez) ce petit algorithme (ci-dessus) de création de <u>multiples</u> tableaux, et expliquez, dans la cellule vide ci-dessous, 1) à quoi sert : range(1,100,10) ; et 2) à quoi aboutit cet algorithme.</i></b>"
   ]
  },
  {
   "cell_type": "markdown",
   "metadata": {},
   "source": [
    "* A quoi sert range(1,100,10) :\n",
    "* A quoi aboutit cet algorithme ? :"
   ]
  },
  {
   "cell_type": "markdown",
   "metadata": {},
   "source": [
    "<b><u>Exercice : </u></b>"
   ]
  },
  {
   "cell_type": "markdown",
   "metadata": {},
   "source": [
    "--> On souhaite visualiser 3 types de tableaux qui auront respectivement : 5 valeurs entre 1 et 5, 10 valeurs entre 1 et 10 et 15 valeurs entre 1 et 15 : ces valeurs étant biensûr ordonnées au hasard dans le tableau ; Chacun de ces tableaux sera construit, au hasard, 3 fois.<br/><br/>\n",
    "<b><i>Recopiez <u>et modifiez</u> l'algorithme utilisé plus haut dans la cellule de code ci-dessous pour résoudre cet exercice :</i></b>"
   ]
  },
  {
   "cell_type": "code",
   "execution_count": null,
   "metadata": {},
   "outputs": [],
   "source": []
  },
  {
   "cell_type": "markdown",
   "metadata": {},
   "source": [
    "&nbsp;&nbsp;&nbsp;&nbsp;&nbsp;&nbsp;ii. <u>Visualisation graphique des résultats : module matplotlib</u><br/><br/>"
   ]
  },
  {
   "cell_type": "code",
   "execution_count": 14,
   "metadata": {
    "scrolled": false
   },
   "outputs": [
    {
     "data": {
      "image/png": "[encoded data removed]",
      "text/plain": [
       "<Figure size 1080x360 with 3 Axes>"
      ]
     },
     "metadata": {
      "needs_background": "light"
     },
     "output_type": "display_data"
    }
   ],
   "source": [
    "from math import *\n",
    "import random\n",
    "%matplotlib inline\n",
    "import numpy as np\n",
    "import matplotlib.pyplot as plt\n",
    "from timeit import default_timer as timer \n",
    "############################################\n",
    "def tri_par_insertion(tableau):\n",
    "    Nb_Action=0\n",
    "    n = len(tableau)\n",
    "    Nb_Action = Nb_Action+1\n",
    "    for i in range(1, len(tableau)):\n",
    "        Nb_Action = Nb_Action+1\n",
    "        x = tableau[i] \n",
    "        Nb_Action = Nb_Action+1\n",
    "        j = i\n",
    "        Nb_Action = Nb_Action+1\n",
    "        while j >0 and tableau[j-1] > x :\n",
    "            Nb_Action = Nb_Action+1\n",
    "            tableau[j] = tableau[j-1] \n",
    "            Nb_Action = Nb_Action+1\n",
    "            j = j - 1 \n",
    "            Nb_Action = Nb_Action+1\n",
    "        tableau[j] = x \n",
    "        Nb_Action = Nb_Action+1\n",
    "    return tableau, Nb_Action\n",
    "############################################    \n",
    "def triage_et_stats(tri_souhaite):\n",
    "    liste_temps=[]\n",
    "    liste_Nb_Action=[]\n",
    "    temps_moy=[]\n",
    "    Nb_Action_moy=[]\n",
    "    taille_tableaux=[]\n",
    "    Nb_Action_atom=0\n",
    "    ########################\n",
    "    ## Création d'une multiple suite de tableaux au hasard de tailles définis\n",
    "    ########################\n",
    "    for taille_tab in range(1,100,10):\n",
    "        for Nb_essai in range(10):\n",
    "            tableau=random.sample(range(taille_tab*10),taille_tab)\n",
    "    ########################\n",
    "    ## Réalisation des tri par insertion de chacun de ces tableaux et mesure des temps\n",
    "    ######################## \n",
    "            if tri_souhaite==\"insertion\":\n",
    "                debut = timer()\n",
    "                tableau, Nb_Action = tri_par_insertion(tableau)\n",
    "                fin = timer()\n",
    "                temps = fin - debut\n",
    "     #######################       \n",
    "            liste_temps.append(temps)\n",
    "            liste_Nb_Action.append(Nb_Action)\n",
    "     ####################### On a fini les 3 essais : on peut moyenner   \n",
    "        moyenne_temps=(sum(liste_temps))/3 # On a testé, ici, 3 fois (ligne 39) les jeux de tests\n",
    "        moyenne_Nb_Action=(sum(liste_Nb_Action))/3\n",
    "        temps_moy.append(moyenne_temps)\n",
    "        Nb_Action_moy.append(moyenne_Nb_Action)\n",
    "        taille_tableaux.append(taille_tab)\n",
    "    return taille_tableaux, temps_moy , Nb_Action_moy\n",
    "##################################################################################\n",
    "\n",
    "def calculs_ordonnees_model(taille_tableaux, modele):\n",
    "    ordonnees=[]\n",
    "    if modele==\"lineaire\": \n",
    "        ordonnees=taille_tableaux\n",
    "        ylabel_modele=\"y = x\"\n",
    "    elif modele==\"quadratique\":\n",
    "        longueur_abcisses=len(taille_tableaux)\n",
    "        for i in range(longueur_abcisses):\n",
    "            carre = taille_tableaux[i]*taille_tableaux[i]\n",
    "            ordonnees.append(carre)\n",
    "        ylabel_modele=\"y = x²\"\n",
    "    return ordonnees,ylabel_modele\n",
    "\n",
    "##################################################################################\n",
    "def graphes(titre,tri_souhaite, modele):   \n",
    "    taille_tableaux, temps_moy , Nb_Action_moy = triage_et_stats(tri_souhaite)\n",
    "    fig = plt.figure(figsize=(15, 5)) # (largeur,hauteur) # en inches\n",
    "    fig.suptitle(titre, fontsize=12)\n",
    "    \n",
    "    plt.subplot(1, 3, 1) # 1 ligne, 3 colonnes, position 1\n",
    "    plt.plot(taille_tableaux, temps_moy, marker='+', color ='r') # r=red\n",
    "    plt.ylabel('Temps moyens')\n",
    "    plt.xlabel('Taille des tableaux')\n",
    "\n",
    "    plt.subplot(1, 3, 2) # 1 ligne, 3 colonnes, position 2\n",
    "    plt.plot(taille_tableaux, Nb_Action_moy, marker='*', color ='b')  # b=blue\n",
    "    plt.ylabel(\"nombre d'actions élémentaires moyens\")\n",
    "    plt.xlabel('Taille des tableaux')\n",
    "\n",
    "    plt.subplot(1, 3, 3) # 1 ligne, 3 colonnes, position 3\n",
    "    ordonnees,ylabel_modele=calculs_ordonnees_model(taille_tableaux, modele)\n",
    "    plt.plot(taille_tableaux, ordonnees, marker='x', color ='g') # g=green\n",
    "    plt.ylabel(ylabel_modele)\n",
    "    plt.xlabel('Titre de mes abcisses (unités)')\n",
    "    \n",
    "    fig.subplots_adjust(wspace=0.8)\n",
    "\n",
    "##################################################################################\"\"\n",
    "titre=\"\"\"Etude des temps moyens, des nombres d'actions élémentaires moyens \\\n",
    "du tri par insertion en fonction de différentes tailles de tableau\"\"\"\n",
    "modele=\"quadratique\"\n",
    "tri_souhaite=\"insertion\"\n",
    "graphes(titre,tri_souhaite,modele)"
   ]
  },
  {
   "cell_type": "markdown",
   "metadata": {},
   "source": [
    "<b><u>Question </u></b> : En observant ces graphes, est-ce que, vous pensez que lorsque la taille du tableau est augmentée d'un facteur x, le temps moyen ou le nombre d'actions élémentaires augmentent aussi d'un facteur x ?<br/>\n",
    "Autrement dit, est-ce que la complexité du tri par insertion de tableaux non ordonné évolue de façon linéaire ?<br/><br/>\n",
    "<details><summary> suite .. (cliquez)</summary><br/>\n",
    "Non : la forme des deux premiers graphes est plus proche de celle du modèle (courbe verte) quadratique (y=x²).<br/><br/>\n",
    "    <u><i>On dit alors que le tri par insertion est en O (se dit \"Grand O\") de x².</i></u><br/><br/>\n",
    "<details><summary> suite .. (cliquez)</summary><br/>\n",
    "Imaginons, maintenant, que cet algorithme travaille sur un tableau dans le <i><b>\"cas le plus favorable\"</b></i> :<br/>\n",
    "    -> Quel type de tableau pourrait être \"le cas le plus favorable\" pour n'importe quel algorithme de tri ? :<br/><br/>\n",
    " <details><summary> solution .. (cliquez)</summary><br/>   \n",
    "     ==> Le \"<b><u>cas le plus favorable</u></b>\" pour un algorithme de tri, c'est lorsque, bizarement, l'algorithme se retrouve devant un <b><u>tableau qui est déjà trié</u></b> !!<br/><br/>\n",
    "     <details><summary> suite .. (cliquez)</summary><br/>\n",
    "Vous pensez, sans doute, que l'algorithme de tri ne va avoir aucune difficulté à trier un tableau déjà trié..<br/>\n",
    " --> Et bien, testez-le : <br/>\n",
    "Voici le code python natif qui permet de classer par ordre croissant un tableau :<br/>\n",
    "         <b>tableau.sort()</b><br/>\n",
    "--> dans la cellule de code vide ci-dessous, recopiez l'algorithme précédent en le modifiant de façon à ce que tous tableaux créés par le module random soit préalablement classé par ordre croissant avant d'être testé par le tri par insertion :"
   ]
  },
  {
   "cell_type": "code",
   "execution_count": 5,
   "metadata": {
    "scrolled": false
   },
   "outputs": [
    {
     "data": {
      "image/png": "[encoded data removed]",
      "text/plain": [
       "<Figure size 1080x360 with 3 Axes>"
      ]
     },
     "metadata": {
      "needs_background": "light"
     },
     "output_type": "display_data"
    }
   ],
   "source": [
    "from math import *\n",
    "import random\n",
    "%matplotlib inline\n",
    "import numpy as np\n",
    "import matplotlib.pyplot as plt\n",
    "from timeit import default_timer as timer \n",
    "############################################\n",
    "def tri_par_insertion(tableau):\n",
    "    Nb_Action=0\n",
    "    n = len(tableau)\n",
    "    Nb_Action = Nb_Action+1\n",
    "    for i in range(1, len(tableau)):\n",
    "        Nb_Action = Nb_Action+1\n",
    "        x = tableau[i] \n",
    "        Nb_Action = Nb_Action+1\n",
    "        j = i\n",
    "        Nb_Action = Nb_Action+1\n",
    "        while j >0 and tableau[j-1] > x :\n",
    "            print(\"coucou\")\n",
    "            Nb_Action = Nb_Action+1\n",
    "            tableau[j] = tableau[j-1] \n",
    "            Nb_Action = Nb_Action+1\n",
    "            j = j - 1 \n",
    "            Nb_Action = Nb_Action+1\n",
    "        tableau[j] = x \n",
    "        Nb_Action = Nb_Action+1\n",
    "    return tableau, Nb_Action\n",
    "############################################     \n",
    "def triage_et_stats(tri_souhaite):\n",
    "    liste_temps=[]\n",
    "    liste_Nb_Action=[]\n",
    "    temps_moy=[]\n",
    "    Nb_Action_moy=[]\n",
    "    taille_tableaux=[]\n",
    "    Nb_Action_atom=0\n",
    "    ########################\n",
    "    ## Création d'une multiple suite de tableaux au hasard de tailles définis\n",
    "    ########################\n",
    "    for taille_tab in range(1,100,10):\n",
    "        for Nb_essai in range(10):\n",
    "            tableau=random.sample(range(taille_tab*10),taille_tab)\n",
    "            tableau.sort()\n",
    "    ########################\n",
    "    ## Réalisation des tri par insertion de chacun de ces tableaux et mesure des temps\n",
    "    ######################## \n",
    "            if tri_souhaite==\"insertion\":\n",
    "                debut = timer()\n",
    "                tableau, Nb_Action = tri_par_insertion(tableau)\n",
    "                fin = timer()\n",
    "                temps = fin - debut\n",
    "     #######################       \n",
    "            liste_temps.append(temps)\n",
    "            liste_Nb_Action.append(Nb_Action)\n",
    "     ####################### On a fini les 3 essais : on peut moyenner   \n",
    "        moyenne_temps=(sum(liste_temps))/10 # On a testé, ici, 10 fois (ligne 39) les jeux de tests\n",
    "        moyenne_Nb_Action=(sum(liste_Nb_Action))/10\n",
    "        temps_moy.append(moyenne_temps)\n",
    "        Nb_Action_moy.append(moyenne_Nb_Action)\n",
    "        taille_tableaux.append(taille_tab)\n",
    "    return taille_tableaux, temps_moy , Nb_Action_moy\n",
    "##################################################################################\n",
    "\n",
    "def calculs_ordonnees_model(taille_tableaux, modele):\n",
    "    ordonnees=[]\n",
    "    if modele==\"lineaire\": \n",
    "        ordonnees=taille_tableaux\n",
    "        ylabel_modele=\"y = x\"\n",
    "    elif modele==\"quadratique\":\n",
    "        longueur_abcisses=len(taille_tableaux)\n",
    "        for i in range(longueur_abcisses):\n",
    "            carre = taille_tableaux[i]*taille_tableaux[i]\n",
    "            ordonnees.append(carre)\n",
    "        ylabel_modele=\"y = x²\"\n",
    "    return ordonnees,ylabel_modele\n",
    "\n",
    "##################################################################################\n",
    "def graphes(titre,tri_souhaite, modele):   \n",
    "    taille_tableaux, temps_moy , Nb_Action_moy = triage_et_stats(tri_souhaite)\n",
    "    fig = plt.figure(figsize=(15, 5)) # (largeur,hauteur) # en inches\n",
    "    fig.suptitle(titre, fontsize=12)\n",
    "    \n",
    "    plt.subplot(1, 3, 1) # 1 ligne, 3 colonnes, position 1\n",
    "    plt.plot(taille_tableaux, temps_moy, marker='+', color ='r') # r=red\n",
    "    plt.ylabel('Temps moyens')\n",
    "    plt.xlabel('Taille des tableaux')\n",
    "\n",
    "    plt.subplot(1, 3, 2) # 1 ligne, 3 colonnes, position 2\n",
    "    plt.plot(taille_tableaux, Nb_Action_moy, marker='*', color ='b')  # b=blue\n",
    "    plt.ylabel(\"nombre d'actions élémentaires moyens\")\n",
    "    plt.xlabel('Taille des tableaux')\n",
    "\n",
    "    plt.subplot(1, 3, 3) # 1 ligne, 3 colonnes, position 3\n",
    "    ordonnees,ylabel_modele=calculs_ordonnees_model(taille_tableaux, modele)\n",
    "    plt.plot(taille_tableaux, ordonnees, marker='x', color ='g') # g=green\n",
    "    plt.ylabel(ylabel_modele)\n",
    "    plt.xlabel('Titre de mes abcisses (unités)')\n",
    "    \n",
    "    fig.subplots_adjust(wspace=0.8)\n",
    "\n",
    "##################################################################################\"\"\n",
    "titre=\"\"\"Etude des temps moyens, des nombres d'actions élémentaires moyens \\\n",
    "du tri par insertion en fonction de différentes tailles de tableau\"\"\"\n",
    "modele=\"quadratique\"\n",
    "tri_souhaite=\"insertion\"\n",
    "graphes(titre,tri_souhaite,modele)"
   ]
  },
  {
   "cell_type": "markdown",
   "metadata": {},
   "source": [
    "\n",
    "<h2><u> Références : </u></h2>\n",
    "<li><span><a href=\"#-COURS-\" data-toc-modified-id=\"-COURS-\"><span class=\"toc-item-num\"></span>Retour au sommaire </a></span></li>"
   ]
  },
  {
   "cell_type": "markdown",
   "metadata": {},
   "source": [
    "* <u>Problématique :</u><br/>\n",
    "    https://cache.media.eduscol.education.fr/file/ISN_Tle_S/29/6/lyceeGT_ressource_ISN_20_06_Tle_S_14_Vous_avez_dit_trier_1_algorithmes_218296.pdf\n",
    "* <u>Visualisation de tris :</u><br/>\n",
    "https://commons.wikimedia.org/wiki/File%3ASelection-Sort-Animation.gif<br/>\n",
    "https://upload.wikimedia.org/wikipedia/commons/0/0f/Insertion-sort-example-300px.gif<br/>\n",
    "* La danse du tri par insertion ! :<br/>\n",
    "https://www.youtube.com/watch?v=ROalU379l3U<br/>\n",
    "* <u>Algorithmes de tris :</u><br/>\n",
    "http://lwh.free.fr/pages/algo/tri/tri.htm<br/>\n",
    "* <u>Python-Tutor : </u><br/>\n",
    "http://www.pythontutor.com/visualize.html#mode=edit<br/>\n",
    "* <u>Etude de la terminaison du tri par insertion : </u><br/>\n",
    "--> Interros des lycées _ Les vrais exos : NSI : 1ère (Nathan) : p.188<br/>\n",
    "* <u>Algèbre booléenne : </u><br/>\n",
    "https://www.apprendre-en-ligne.net/info/logique/logique.pdf<br/>\n",
    "* <u>Preuve de l'agorithme du tri par insertion : Notions d'invariant de boucle : </u><br/>\n",
    "--> Interros des lycées _ Les vrais exos : NSI : 1ère (Nathan) : p.188<br/>\n",
    "* <u>Notions de complexité algorithmique : </u><br/>\n",
    "http://www.irem.unilim.fr/fileadmin/documents/2015_01_04-Introduction_complexite_algorithmique.pdf\n",
    "* <u>Notions de Random Acces Machine (RAM) : </u><br/>\n",
    "https://fr.wikipedia.org/wiki/Random_access_machine"
   ]
  },
  {
   "cell_type": "markdown",
   "metadata": {},
   "source": [
    "<h2> Solution : Détermination du nombre d'actions élémentaires : </h2>"
   ]
  },
  {
   "cell_type": "markdown",
   "metadata": {},
   "source": [
    "<li><span><a href=\"#-2)-Détermination-du-temps-d'éxecution-d'un-algorihme-:-\" data-toc-modified-id=\"-2)-Détermination-du-temps-d'éxecution-d'un-algorihme-:-\"><span class=\"toc-item-num\"></span>Retour au cours..</a></span></li>"
   ]
  },
  {
   "cell_type": "code",
   "execution_count": null,
   "metadata": {},
   "outputs": [],
   "source": [
    "Nombre_action_elementaire=0\n",
    "tableau=[6, 5, 3, 1, 8, 7, 2, 4]\n",
    "Nombre_action_elementaire+=1\n",
    "print('\\nVoici le tableau initial : ',tableau)\n",
    "n = len(tableau)\n",
    "Nombre_action_elementaire+=1\n",
    "for i in range(1, len(tableau)): \n",
    "    Nombre_action_elementaire+=1\n",
    "    x = tableau[i] \n",
    "    Nombre_action_elementaire+=1\n",
    "    j = i\n",
    "    Nombre_action_elementaire+=1\n",
    "    while j >0 and tableau[j-1] > x :\n",
    "        Nombre_action_elementaire+=1\n",
    "        tableau[j] = tableau[j-1] \n",
    "        Nombre_action_elementaire+=1\n",
    "        j = j - 1 \n",
    "        Nombre_action_elementaire+=1\n",
    "    tableau[j] = x \n",
    "    Nombre_action_elementaire+=1\n",
    "print('\\nVoici le tableau trié : ',tableau)\n",
    "print(\"\\nEt voici le nombre d'actions élémentaires : \",Nombre_action_elementaire)"
   ]
  },
  {
   "cell_type": "code",
   "execution_count": null,
   "metadata": {},
   "outputs": [],
   "source": []
  }
 ],
 "metadata": {
  "kernelspec": {
   "display_name": "Python 3",
   "language": "python",
   "name": "python3"
  },
  "language_info": {
   "codemirror_mode": {
    "name": "ipython",
    "version": 3
   },
   "file_extension": ".py",
   "mimetype": "text/x-python",
   "name": "python",
   "nbconvert_exporter": "python",
   "pygments_lexer": "ipython3",
   "version": "3.7.3"
  }
 },
 "nbformat": 4,
 "nbformat_minor": 2
}
