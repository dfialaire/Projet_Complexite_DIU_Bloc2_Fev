{
 "cells": [
  {
   "cell_type": "markdown",
   "metadata": {},
   "source": [
    "( Projet Eleves --> Correction / ce qui est attendu )\n",
    "<H1>Mesures empririques des temps de calcul d'algorithmes de tri :</H1>\n",
    "<H2>Comparaison avec les résultats théoriques.</H2>"
   ]
  },
  {
   "cell_type": "markdown",
   "metadata": {},
   "source": [
    "<u>Intro :</u>    ..."
   ]
  },
  {
   "cell_type": "markdown",
   "metadata": {},
   "source": [
    "<u>Contenu :</u>\n",
    "<li><span><a href=\"#-I-Le-tri-bulle-:-\" data-toc-modified-id=\"-Le-tri-bulle--1\"><span class=\"toc-item-num\">1&nbsp;&nbsp;</span> Le tri bulle </a></span></li>"
   ]
  },
  {
   "cell_type": "markdown",
   "metadata": {},
   "source": [
    "<u><h2> I Le tri bulle : </h2></u>\n",
    "<u>Principe : </u><br/>\n",
    "Le tri à bulles compare, deux à deux (soit une bulle), les éléments e1 et e2 consécutifs d'un tableau et effectue, en balayant le tableau, une permutation si e1 > e2.<br/>\n",
    "Les balayages du tableau se renouvellent (sur le tableau de borne supérieure réduite à chaque balayage : (complexité (n-Nb_balayage)  ) jusqu'à ce qu'il n'y ait eu aucune permutation nécessaire dans le balayage en cours.<br/>\n",
    "<u>Complexité : </u><br/>\n",
    "La complexité du 1er  balayage est de : n-1<br/>\n",
    "La complexité du 2ème balayage est de : n-2<br/>\n",
    "La complexité du 3ème balayage est de : n-3<br/>\n",
    "...<br/>\n",
    "La complexité de l'avant avant dernier balayage est de : n-(n-2) = 2<br/>\n",
    "La complexité de l'avant dernier balayage est de : n-(n-1) = 1<br/>\n",
    "La complexité du dernier balayage est de : n-n = 0<br/>\n",
    "---> La complexité totale est la somme de ces complexités, soit :<br/>\n",
    "C=0+1+2+...+(n-2)+(n-1)+n ==> D'où : la complexité est la somme des n entiers = [n (n-1 )] / 2<br/>\n",
    "<u><b>Complexité dans le pire cas : </b></u><br/>\n",
    "Dans le pire des cas,le tableau est déjà classé à l'envers : il faudra, non seulement, pour chaque balayage, inverser chaque bulle, mais aussi, réaliser tous les balayages à borne supérieure décroissante possible :<br/>\n",
    "la complexité sera en o(n2)."
   ]
  },
  {
   "cell_type": "code",
   "execution_count": 4,
   "metadata": {},
   "outputs": [
    {
     "name": "stdout",
     "output_type": "stream",
     "text": [
      "\n",
      "voici la liste :  [12, 4, 7, 20, 3, 9]\n",
      "\n",
      "voici la même liste triée:  [3, 4, 7, 9, 12, 20]\n"
     ]
    }
   ],
   "source": [
    "def tri_bulle(tableau):\n",
    "    permutation = True\n",
    "    passage = 0\n",
    "    while permutation == True:\n",
    "        permutation = False\n",
    "        passage = passage + 1\n",
    "        for en_cours in range(0, len(tableau) - passage):\n",
    "            if tableau[en_cours] > tableau[en_cours + 1]:\n",
    "                permutation = True\n",
    "                # On echange les deux elements\n",
    "                tableau[en_cours], tableau[en_cours + 1] = tableau[en_cours + 1],tableau[en_cours]\n",
    "    return tableau \n",
    "    \n",
    "liste_initiale=[12,4,7,20,3,9]\n",
    "print(\"\\nvoici la liste : \",liste_initiale)\n",
    "\n",
    "liste_triee=tri_bulle(liste_initiale)\n",
    "\n",
    "print(\"\\nvoici la même liste triée: \",liste_triee)"
   ]
  },
  {
   "cell_type": "code",
   "execution_count": null,
   "metadata": {},
   "outputs": [],
   "source": [
    "C'est une comparaison 16h53"
   ]
  }
 ],
 "metadata": {
  "kernelspec": {
   "display_name": "Python 3",
   "language": "python",
   "name": "python3"
  },
  "language_info": {
   "codemirror_mode": {
    "name": "ipython",
    "version": 3
   },
   "file_extension": ".py",
   "mimetype": "text/x-python",
   "name": "python",
   "nbconvert_exporter": "python",
   "pygments_lexer": "ipython3",
   "version": "3.7.3"
  }
 },
 "nbformat": 4,
 "nbformat_minor": 2
}
