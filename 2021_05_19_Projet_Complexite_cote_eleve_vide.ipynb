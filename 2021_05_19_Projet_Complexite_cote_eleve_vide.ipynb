{
 "cells": [
  {
   "cell_type": "markdown",
   "metadata": {},
   "source": [
    "<H1>Projet complexité du groupe n° :  </H1>\n",
    "<H2>Nom1 Prénom1  &nbsp; &nbsp; Nom2 Prénom2 &nbsp;&nbsp;   Nom3 Prénom3</H2>\n"
   ]
  },
  {
   "cell_type": "markdown",
   "metadata": {},
   "source": [
    "<i><u>Consigne :</u> Nous avons vu dans le cours  que trier un tableau c'est ranger ses éléments dans l'ordre croissant ou décroissant. Dans ce projet, on ne s'occupera que des tris par ordre croissant.<br>\n",
    "Il existe plusieurs algorithmes de tri qui se différencient par leur temps d'exécution et leur nombre d'actions élémentaires effectuées (affectations, comparaisons) : on parle alors de complexité algorithmique. À l'aide du cours sur le tri insertion, vous devez comparer quatre d'entre eux :\n",
    "<ol>\n",
    " <li> Le tri bulle\n",
    "  <li> Le sélection\n",
    "   <li> Le tri rapide non récursif \n",
    "    <li> Le tri natif de python : timsort\n",
    "</ol>\n",
    "<ul>\n",
    "<li> Programmez ces algorithmes et testez les avec des jeux de test simples. N'oubliez pas de citer vos sources si vous reprenez le code sur un site.<br> \n",
    "Pour le tri rapide non récursif, difficile d'implémentation, vous retrouvez le code python <a href=\"https://pub.phyks.me/sdz/sdz/le-tri-rapide-qsort.html\">à cette adresse</a>.\n",
    "<br>\n",
    "<b>Remarque :</b> il n'est pas demandé de reprogrammer le tri natif de python mais juste d'utiliser la fonction sort() vue en cours.<br><br> \n",
    "    \n",
    "<li> Pour chaque tri, il faudra rappeler la complexité théorique dans le pire des cas et dans le meilleur des cas.<br>\n",
    "     <b>Remarques :</b> la preuve détaillée n'est pas demandée mais vous pourrez donner une idée générale pour le tri bulle et le tri sélection.<br><br> \n",
    "\n",
    "<li> En vous inspirant du cours, tester chaque tri sur des tableaux d’entiers de taille variable, et remplis aléatoirement, et mesurer à chaque fois le temps de calcul, et le nombre d’actions élémentaires effectuées.<br>\n",
    " <b>Remarques :</b> \n",
    "    <ul><li>la taille des jeux de test vue en cours n'est peut-être pas suffisante.\n",
    "        <li>il faudra penser à un jeu de test adapté au meilleur des cas et un au pire des cas.\n",
    "    </ul> \n",
    "<br> \n",
    "\n",
    "<li>Réutilisez la fonction graphes du cours pour représenter graphiquement vos résultats.<br> \n",
    "    Pour chaque tri, vous vérifierez que les résultats empiriques, c'est-à-dire ceux que l'on a calculé, correspondent bien aux résultats théoriques. <br><br>\n",
    "    \n",
    "<li>  Pour finir, rédigez une conclusion pour comparer les temps d'exécution et les nombres d'actions effectuées des différents tris afin de déterminer quel algorithme est le plus performant.\n",
    "</ul></i>\n"
   ]
  },
  {
   "cell_type": "markdown",
   "metadata": {},
   "source": [
    "<u>Sommaire :</u>\n",
    "<li><span><a href=\"#-I-Le-tri-bulle-:-\" data-toc-modified-id=\"-Le-tri-bulle-\"><span class=\"toc-item-num\">1&nbsp;&nbsp;</span> Le tri bulle </a></span></li>\n",
    "\n",
    "\n"
   ]
  },
  {
   "cell_type": "markdown",
   "metadata": {},
   "source": [
    "<u><h2> I Le tri bulle : </h2></u>\n",
    "<u><b>Principe : </b></u><br/>\n",
    "<br/>\n",
    "<u><b>Complexité : </b></u><br/>\n",
    "<br/>\n",
    "<u><b>Complexité dans le pire cas : </b></u><br/>\n",
    "<br/>\n",
    "<u><b>Complexité dans le meilleur des cas : </b></u><br/>\n",
    "<br/>\n",
    "<u><b>Explication des jeux de tests présents dans le script : </b></u><br/>\n",
    "<br/>\n",
    "<u><b>Script : </b></u><br/>\n",
    "<u>Référence : </u> http://Lien.html <br/>"
   ]
  },
  {
   "cell_type": "code",
   "execution_count": null,
   "metadata": {},
   "outputs": [],
   "source": [
    "def tri_bulle(tableau):\n",
    "    \"\"\" Explications de votre fonction...\n",
    "    et de ses spécification.\"\"\"\n",
    "    return tableau,Nb_Action\n",
    "    \n",
    "liste_initiale=[12,4,7,20,3,9]\n",
    "print(\"\\nvoici la liste : \",liste_initiale)\n",
    "liste_triee,Nb_Action=tri_bulle(liste_initiale)\n",
    "\n",
    "print(\"\\nvoici la même liste triée: \",liste_triee)\n",
    "print(\"\\nNombre d'action atomique effectuées : \",Nb_Action)"
   ]
  },
  {
   "cell_type": "markdown",
   "metadata": {
    "scrolled": false
   },
   "source": [
    "<i>Reprendre les fonctions triage_et_stats, calculs_ordonnees_model et graphes du cours pour afficher les temps moyens et des nombres d'actions élémentaires moyens du tri par sélection en fonction de différentes tailles de tableau et de différents jeux de test (mélangés, meilleur des cas, pire des cas).</i>"
   ]
  },
  {
   "cell_type": "code",
   "execution_count": null,
   "metadata": {},
   "outputs": [],
   "source": []
  },
  {
   "cell_type": "markdown",
   "metadata": {},
   "source": [
    "<img src=\"Image_Ex2.png\"  width=750px alt=\"\" />\n",
    "<img src=\"Image_Ex3.png\"  width=750px alt=\"\" />\n",
    "<img src=\"Image_Ex4.png\"  width=750px alt=\"\" />"
   ]
  },
  {
   "cell_type": "markdown",
   "metadata": {},
   "source": [
    "<u><b>Conclusions sur le tri bulle : </b></u><br/>\n",
    "...<br/>"
   ]
  },
  {
   "cell_type": "markdown",
   "metadata": {},
   "source": [
    "<u><h2> V Comparaison des différents tris : </h2></u>"
   ]
  },
  {
   "cell_type": "markdown",
   "metadata": {
    "scrolled": true
   },
   "source": [
    "<i>À l'aide de tableaux ou de graphiques, comparer les quatre tris selon leurs temps de calcul.</i>"
   ]
  },
  {
   "cell_type": "code",
   "execution_count": null,
   "metadata": {},
   "outputs": [],
   "source": []
  },
  {
   "cell_type": "markdown",
   "metadata": {},
   "source": [
    "<img src=\"Image_Ex5.png\"  width=600px alt=\"\" />"
   ]
  },
  {
   "cell_type": "markdown",
   "metadata": {},
   "source": [
    "<u><b>Conclusions sur les temps obtenus par les différents tris : </b></u><br/>\n",
    "...<br/>"
   ]
  },
  {
   "cell_type": "markdown",
   "metadata": {
    "scrolled": true
   },
   "source": [
    "<i>À l'aide de tableaux ou de graphiques, comparer les quatre tris selon leurs nombres d'actions effectués (le tri natif de python n'est pas comparable car on ne peut pas connaître son nombre d'actions).</i>"
   ]
  },
  {
   "cell_type": "code",
   "execution_count": null,
   "metadata": {},
   "outputs": [],
   "source": []
  },
  {
   "cell_type": "markdown",
   "metadata": {},
   "source": [
    "<img src=\"Image_Ex6.png\"  width=600px alt=\"\" />"
   ]
  },
  {
   "cell_type": "markdown",
   "metadata": {},
   "source": [
    "<u><b>Conclusions sur les nombre d'actions atomiques visualisés sur les différents tris : </b></u><br/>\n",
    "...<br/>"
   ]
  }
 ],
 "metadata": {
  "kernelspec": {
   "display_name": "Python 3",
   "language": "python",
   "name": "python3"
  },
  "language_info": {
   "codemirror_mode": {
    "name": "ipython",
    "version": 3
   },
   "file_extension": ".py",
   "mimetype": "text/x-python",
   "name": "python",
   "nbconvert_exporter": "python",
   "pygments_lexer": "ipython3",
   "version": "3.9.0"
  }
 },
 "nbformat": 4,
 "nbformat_minor": 2
}
