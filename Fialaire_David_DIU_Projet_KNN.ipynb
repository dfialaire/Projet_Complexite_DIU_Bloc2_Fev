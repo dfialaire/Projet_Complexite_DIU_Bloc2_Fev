{
 "cells": [
  {
   "cell_type": "markdown",
   "metadata": {},
   "source": [
    "<h1> Projet KNN (K Nearest Neighbors classification) :</h1><br/>\n",
    "<i>Classification selon les K plus proches voisins.</i><br/>\n",
    "<b><u>Pour lancer le projet :</u></b> Cliquez sur Kernel --> Restart and Run All -> Relancer et executer toutes les cellules.<br/>\n",
    "<i> (Ou bien, executer chaque cellule, les unes après les autres, dans l'ordre du Notebook :+ long.)</i>"
   ]
  },
  {
   "cell_type": "code",
   "execution_count": 1,
   "metadata": {},
   "outputs": [],
   "source": [
    "def Lecture_listes(liste_connue,liste_inconnue): \n",
    "    \"\"\" Cette fonction ouvre les 2 listes contenant les nuances\n",
    "    de gris, respectivement, des images classifiées de la liste 'training' \n",
    "    et, des images à tester de la liste 'testing' .\n",
    "    Ces nuances de gris sont dans une chaîne de caractères : les\n",
    "    valeurs sont donc isolées (split) et transformées en entiers (int):\n",
    "    Ces entiers sont renvoyés dans 2 listes : listetraining et listetesting.\n",
    "    \"\"\"\n",
    "    import sys\n",
    "    train = open(liste_connue,\"r\") # on ouvre le fichier en mode lecture (r)\n",
    "    test = open(liste_inconnue,\"r\")\n",
    "    l1 = train.readlines()\n",
    "    listetraining = [ligne.split() for ligne in l1] # On demande à construire 1 nouvelle liste d'éléments séparés par des ',' où chaque éléments est séparé d'un espace (split) dans la précédente liste\n",
    "    assert(type(listetraining[0])==list),\"Attention la construction de listetraining n'aboutit pas à une liste de liste.\" #Pré-condtition\n",
    "    assert(type(listetraining[0][2])==str),\"Attention, les arguments de la fonction ne contenait pas de chaînes de caractères.\" #Pré-condtition\n",
    "    for image in listetraining:\n",
    "        j = len(image) # j , variant d'itération, décroissant = preuve de terminaison\n",
    "        numpixel = len(image) - j\n",
    "        while j != 0: # numpixel va varier de 0 à len(image) - 1\n",
    "            image[numpixel] = int(image[numpixel]) # Les listes initiales contenaient des nombres en string qu'on transforme en int pour travailler numériquement dessus    \n",
    "            j=j-1 # j , variant d'itération, décroit = preuve de terminaison\n",
    "            numpixel = len(image) - j\n",
    "    l2 = test.readlines()\n",
    "    listetesting = [ligne.split() for ligne in l2] \n",
    "    for image in listetesting:\n",
    "        for numpixel in range(1,len(image)): # on enlève le '?' en début d'image, donc on ne démarre pas à 0\n",
    "            image[numpixel] = int(image[numpixel]) # Les listes initiales contenaient des nombres en String\n",
    "    assert(type(listetraining[0][2])==int),\"Attention, listraining ne semble pas avoir changer ses str en int.\" # Post-condition\n",
    "    assert(type(listetesting[0][2])==int),\"Attention, listesting ne semble pas avoir changer ses str en int.\" # Post-condition\n",
    "    return listetraining, listetesting"
   ]
  },
  {
   "cell_type": "code",
   "execution_count": 2,
   "metadata": {},
   "outputs": [],
   "source": [
    "def binairisation_pixel(liste,Num_image,position_pixel):\n",
    "    \"\"\"on appelle un pixel par sa position dans une \n",
    "    liste (training ou testing :2D-->1D) dans un N° d'image.\n",
    "    si la nuance de gris (0-255) est inférieure ou égale à 127 \n",
    "    alors on renvois 0, sinon 1. = binairisation du pixel\n",
    "    >>> binairisation_pixel([[0,0,130,55,0],[0,0,225,28,0]],0,2)\n",
    "    1\n",
    "    >>> binairisation_pixel([[0,0,130,55,0],[0,0,225,28,0]],1,3)\n",
    "    0\"\"\"\n",
    "    assert(len(liste)>Num_image),\"Le N°d'image demandé n'est pas dans la liste _ la liste est trop courte\"\n",
    "    Nuance_gris_pixel=liste[Num_image][position_pixel]\n",
    "    assert(Nuance_gris_pixel<256 and Nuance_gris_pixel>=0),\"On doit avoir accès à la nuance de gris du pixel\" # Pré-condition\n",
    "    if Nuance_gris_pixel <= 127:\n",
    "        Binaire_pixel=0\n",
    "    else:\n",
    "        Binaire_pixel=1\n",
    "    assert(Binaire_pixel==1 or Binaire_pixel==0),\"Le pixel n'a pas été binairisé\" # Post-condition\n",
    "    return Binaire_pixel\n",
    "if __name__ == '__main__':\n",
    "    import doctest\n",
    "    doctest.testmod()"
   ]
  },
  {
   "cell_type": "code",
   "execution_count": 3,
   "metadata": {},
   "outputs": [],
   "source": [
    "def distance_entre_2pixels(Binaire_pixel_testing,Binaire_pixel_training):\n",
    "    \"\"\" si les 2 pixels comparés ont la même valeur (1 ou 0)\n",
    "    alors la distance est nulle sinon elle est égale à 1\"\"\"\n",
    "    assert(Binaire_pixel_testing==1 or Binaire_pixel_testing==0),\"La valeur du pixel_testing entrant doit être binaire\" # Pré-condition\n",
    "    assert(Binaire_pixel_training==1 or Binaire_pixel_training==0),\"La valeur du pixel_training entrant doit être binaire\" # Pré-condition\n",
    "    if Binaire_pixel_testing == Binaire_pixel_training:\n",
    "        ditance_pixels = 0\n",
    "    else:\n",
    "        ditance_pixels = 1\n",
    "    assert(ditance_pixels==0 or ditance_pixels==1),\"La distance entre 2 pixels doit être binaire\" # Post-condition\n",
    "    return ditance_pixels"
   ]
  },
  {
   "cell_type": "code",
   "execution_count": 4,
   "metadata": {},
   "outputs": [],
   "source": [
    "def distance_entre_2_images(listetesting,listetraining,image_testing,image_training):\n",
    "    \"\"\" Réalisation de la somme des distances mesurées entre 2 pixels \n",
    "    appartenant à 2 images différentes mais situés à la même position.\n",
    "    784 distances sont sommées correspondants aux 784 pixels de chaque image.\n",
    "    * Invariant : Soit l'image est identique donc distance = 0, Soit l'image est inversée(0/1) et\n",
    "    alors distance = 784, soit la distance est intermédiaire ; donc l'invariant est le fait\n",
    "    que la distance est toujours comprise entre 0 inclus et 784 inclus.\"\"\"\n",
    "    liste_des_distances_des_pixels=[]\n",
    "    assert(type(listetesting)==list),\"Attention, la variable listetesting n'est pas une liste \" # Pré-conditions\n",
    "    assert(type(listetraining)==list),\"Attention, la variable listetraining n'est pas une liste \" # Pré-conditions\n",
    "    assert(len(listetesting[image_testing])==len(listetraining[image_training])),\"Les 2 images comparées doivent avoir le même nombre de pixels 1D\" # Pré-condition\n",
    "    j = 784 # Variant d'itération décroissant = Preuve de terminaison _ 784 pixels dans chaque image (28x28)\n",
    "    while j != 0:\n",
    "        position_pixel=(784 +1) -j # Parcours des pixels 1 à 784\n",
    "        assert(position_pixel<785 and position_pixel>0),\"Le parcours des pixels est hors image..!?\"\n",
    "        Binaire_pixel_testing=binairisation_pixel(listetesting,image_testing,position_pixel)\n",
    "        Binaire_pixel_training=binairisation_pixel(listetraining,image_training,position_pixel)\n",
    "        ditance_pixels=distance_entre_2pixels(Binaire_pixel_testing,Binaire_pixel_training)\n",
    "        liste_des_distances_des_pixels.append(ditance_pixels)    \n",
    "        j=j-1    # Décroissance du variant d'itération\n",
    "    distance_2_images=sum(liste_des_distances_des_pixels)\n",
    "    assert(distance_2_images>=0 and distance_2_images<785),\"L'invariant distance_entre_2_images est non vérifié !\" # Invariant : \n",
    "    return distance_2_images"
   ]
  },
  {
   "cell_type": "code",
   "execution_count": 5,
   "metadata": {},
   "outputs": [],
   "source": [
    "def liste_tuple_distance_classe_imageTest_versus_data(listetesting,num,listetraining):\n",
    "    \"\"\"Construction d'une liste contenant autant de tuple (x,y,z) que d'images de training.\n",
    "    Chaque tuple(x,y,z) décrit une comparaison entre l'image testing choisie et\n",
    "    une des images de training, où x est la distance entre les 2 images,\n",
    "    y est la classe (7 ou 3) de l'image de training,et z est l'index de l'image training.\n",
    "    >>> listetraining, listetesting = Lecture_listes(\"training\",\"testing\")\n",
    "    >>> num=0\n",
    "    >>> res =liste_tuple_distance_classe_imageTest_versus_data(listetesting,num,listetraining)\n",
    "    >>> res[0]== (39, 7, 108)\n",
    "    True\"\"\"\n",
    "    assert(type(listetesting)==list),\"Attention, la variable listetesting n'est pas une liste \" # Pré-conditions\n",
    "    assert(type(listetraining)==list),\"Attention, la variable listetraining n'est pas une liste \" # Pré-conditions\n",
    "    assert(isinstance(num,int)),\"Attention, la réponse de l'utilisateur n'est pas un chiffre\" # Pré-conditions\n",
    "    assert(num<10 and num >=0),\"Le N° d'image doit être compris entre 0 et 9.\" # Pré-conditions\n",
    "    list_non_triee_distance_class=[]\n",
    "    longueur_listetraining=len(listetraining)\n",
    "    j=longueur_listetraining # Variant d'itération décroissant = Preuve de terminaison _ 200 images dans training\n",
    "    while j != 0:\n",
    "        parcours_data = longueur_listetraining - j\n",
    "        distance_2_images=distance_entre_2_images(listetesting,listetraining,num,parcours_data)\n",
    "        tuple_distance_classe=(distance_2_images,listetraining[parcours_data][0],parcours_data)\n",
    "        list_non_triee_distance_class.append(tuple_distance_classe)\n",
    "        j = j-1    # Décroissance du variant d'itération\n",
    "    list_triee_distance_class=list_non_triee_distance_class\n",
    "    list_triee_distance_class.sort()\n",
    "    assert(len(list_triee_distance_class)==longueur_listetraining),\"La liste des tuples n'a pas traité tous les éléments de training..\" # Post-condition\n",
    "    assert(type(list_triee_distance_class[0])==tuple), \"Attention, la liste des tuples ne contient pas des tuples.\" # Post-condition\n",
    "    assert(len(list_triee_distance_class[0])==3), \"Attention, les tuples ne sont pas construits sur 3 éléments.\" # Post-condition\n",
    "    return list_triee_distance_class\n",
    "if __name__ == '__main__':\n",
    "    import doctest\n",
    "    doctest.testmod()"
   ]
  },
  {
   "cell_type": "code",
   "execution_count": 6,
   "metadata": {},
   "outputs": [],
   "source": [
    "def deduction_classe_img_testee(list_triee_distance_class,ka):\n",
    "    \"\"\" Cette fonction renvoie la classe majoritaire, le nombre de voisins\n",
    "    de classe 7 et le nombre de voisins de classe 3. La classe majoritaire\n",
    "    est évaluée parmis les ka classes des ka images plus proches de l'image\n",
    "    testée, en comptabilisant les nombres de classe égales à 7, celles égales\n",
    "    à 3 dans une liste de tuple ayant en index 1 la classe recherchée.\n",
    "    >>> deduction_classe_img_testee([(10,7,2),(45,3,3),(62,7,6)],3)\n",
    "    (7, 2, 1)\"\"\"\n",
    "    assert(type(list_triee_distance_class[0])==tuple), \"Attention, la liste des tuples ne contient pas des tuples.\" # Pré-condition\n",
    "    assert(len(list_triee_distance_class[0])==3), \"Attention, les tuples ne sont pas construits sur 3 éléments.\" # Pré-condition\n",
    "    assert(type(ka)==int),\"La variable k doit être un entier\" # Pré-conditions\n",
    "    assert(ka<201 and ka>0),\"La valeur de k n'est pas comprise entre 1 et 200.\" # Pré-conditions\n",
    "    Nb_sept=0\n",
    "    Nb_trois=0\n",
    "    #for parcours in range(0, ka):\n",
    "    j = ka  # Variant d'itération décroissant = Preuve de terminaison _ ka tuples à parcourir\n",
    "    while j != 0:\n",
    "        i = ka -j \n",
    "        if list_triee_distance_class[i][1]==7:\n",
    "            Nb_sept+=1\n",
    "        else:\n",
    "            Nb_trois+=1\n",
    "        j = j-1    # Décroissance du variant d'itération\n",
    "    if Nb_sept>Nb_trois:\n",
    "        classe=7\n",
    "    elif Nb_trois>Nb_sept:\n",
    "        classe=3\n",
    "    else:\n",
    "        classe=\"Ambigue avec ce K ! \"\n",
    "    assert(Nb_sept+Nb_trois==ka),\"Tous les cas de classe n'ont pas été comptabilisées..?\" # Post-conditions\n",
    "    assert(classe in (3,7,\"Ambigue avec ce K ! \")),\"La classe n'a pas été correctement obtenue.\" # Post-conditions\n",
    "    return classe,Nb_sept ,Nb_trois\n",
    "if __name__ == '__main__':\n",
    "    import doctest\n",
    "    doctest.testmod()"
   ]
  },
  {
   "cell_type": "code",
   "execution_count": 7,
   "metadata": {
    "scrolled": false
   },
   "outputs": [],
   "source": [
    "import numpy as np\n",
    "import matplotlib\n",
    "from matplotlib.pyplot import *\n",
    "from pylab import *\n",
    "def Represente_graphe(Liste_visee,Nom_liste_visee,list_img,largeur_voulue,espacement):\n",
    "    \"\"\" Cette fonction affiche l'image que l'on souhaite tester, puis elle affiche les\n",
    "    k images plus proches voisins de l'image à tester pris dans la liste training.\n",
    "    Les k voisins sont présentés par ligne de 10 images pour limitter l'ocuppation de l'écran.\"\"\"\n",
    "    assert(isinstance(largeur_voulue,int)),\"La largeur voulue doit être un entier\" # Pré-conditions\n",
    "    assert(isinstance(espacement,int)),\"L'espacement doit être un entier\" # Pré-conditions\n",
    "    assert(type(Nom_liste_visee)==str),\"Attention, la variable Liste_visee n'est pas une string \" # Pré-conditions\n",
    "    assert(type(Liste_visee)==list),\"Attention, la variable Nom_liste_visee n'est pas une liste \" # Pré-conditions\n",
    "    assert(all(isinstance(item, int) for item in list_img)),\"L'utilisateur doit demander un nombre comme choix d'image\" # Pré-condition \n",
    "    Nb_img=len(list_img)\n",
    "    if Nom_liste_visee==\"testing\": # Ici, on affiche uniquement l'image à tester\n",
    "        tab = Liste_visee[list_img[0]] # On récupère les données des pixels de l'image d'intérêt dans Listesting\n",
    "        tableau = np.array(tab[1:]),(28,28) # On place ces données dans une matrice numpy 28x28, sans le '?' en index 0 !\n",
    "        titre=\"Image(s) de la liste : \"+Nom_liste_visee # On prépare un titre de cette image\n",
    "        plt.figure(figsize=(1,2)) # On impose des proportions du visuel de l'image\n",
    "        plt.suptitle(titre, fontsize=16)# on écrit le titre\n",
    "        plt.subplot(1,Nb_img,1) # On positionne notre image sur 1 ligne , 1 colonne\n",
    "        titre_image=\"index N°\"+str(list_img[0]) # On prépare un sous-titre\n",
    "        plt.title(titre_image) # On écrit le sous-titre\n",
    "        plt.axis('off') # On demande de retirer les axes\n",
    "        tabli = np.reshape(tableau[0],tableau[1]) # On donne une nouvelle forme au tableau\n",
    "        plt.imshow(tabli, cmap=\"gray_r\") # l'impression est lancée en gris\n",
    "    else:\n",
    "        Nb_dizaine=Nb_img//10 # On cherche à savoir, selon k, combien de dizaine d'images( donc de lignes) on doit afficher\n",
    "        Nb_images_restantes=Nb_img-(Nb_dizaine*10) # On récupère le nombre d'images à présenter en dehors des lignes de dizaine d'images\n",
    "        j = Nb_dizaine # Variant d'itération j\n",
    "        while j != 0: # Preuve de terminaison sur le variant décroissant j\n",
    "            ligne = Nb_dizaine - j\n",
    "            figure(figsize=(largeur_voulue,espacement))\n",
    "            Prem_img_dizene=ligne*10 # Détermination de l'index de la 1ère image à placer en début de chaque ligne de 10 images\n",
    "            for Img_Num in range(Prem_img_dizene,(ligne+1)*10):\n",
    "                tab = Liste_visee[list_img[Img_Num]]\n",
    "                tableau = np.array(tab[1:]),(28,28)\n",
    "                if ligne==0: # On ne place le titre de l'ensemble des images de Training qu'un seule fois : avant la 1ère ligne de dizaine\n",
    "                    titre=\"Image(s) de la liste : \"+Nom_liste_visee\n",
    "                    suptitle(titre, fontsize=16)\n",
    "                subplot(ligne+1,10,Img_Num+1) # On indique sur quelle ligne, pour combien de colonne, et à quelle colonne se trouve l'image.\n",
    "                titre_image=\"index N°\"+str(list_img[Img_Num]) # On sous-titre par le N° d'index de l'image\n",
    "                title(titre_image)\n",
    "                axis('off')\n",
    "                imshow(np.reshape(tableau[0],tableau[1]) , cmap=\"gray_r\" )\n",
    "            j = j - 1 # Le variant d'itération j, preuve de terminaison subi une décroissance\n",
    "        if Nb_images_restantes !=0: # Il ne reste plus qu'à présenter les image Unitaires de k (Ex : 52 --> 2)\n",
    "            init=Nb_dizaine*10 # on définit l'index de la 1ère image restante des images unitaires\n",
    "            fin = (Nb_dizaine*10)+(Nb_images_restantes) # on définit l'index de la dernière image restante des images unitaires\n",
    "            largeur=(largeur_voulue/10)*Nb_images_restantes # La variable 'largeur_voulue' était pour 10 images, on corrige ici cette largeur en  fonction du Nb d'image restante.\n",
    "            figure(figsize=(largeur,espacement)) # On impose des proportions du visuel de l'image\n",
    "            i = Nb_images_restantes # i variant d'itération décroissant --> preuve de terminaison\n",
    "            Img_Num = fin - i\n",
    "            while Img_Num != fin-1: # On boucle l'impression d'images sur les N° d'index restants : d'init à fin\n",
    "                Img_Num = fin - i \n",
    "                tab = Liste_visee[list_img[Img_Num]]\n",
    "                tableau = np.array(tab[1:]),(28,28) \n",
    "                subplot(1,Nb_images_restantes,Img_Num-init+1) # ici, le nombre de colonne est limitée par le nombre d'images restantes unitaires\n",
    "                titre_image=\"index N°\"+str(list_img[Img_Num])\n",
    "                title(titre_image)\n",
    "                axis('off')\n",
    "                imshow(np.reshape(tableau[0],tableau[1]) , cmap=\"gray_r\" )\n",
    "                i =i -1"
   ]
  },
  {
   "cell_type": "code",
   "execution_count": 8,
   "metadata": {
    "scrolled": false
   },
   "outputs": [
    {
     "name": "stdout",
     "output_type": "stream",
     "text": [
      "\n",
      "Quelle image voulez-vous tester (entre 0 et 9) ? : 2\n",
      "Quelle valeur de k souhaitez-vous (1 - 200) ? : 38\n"
     ]
    },
    {
     "data": {
      "image/png": "[encoded data removed]",
      "text/plain": [
       "<Figure size 72x144 with 1 Axes>"
      ]
     },
     "metadata": {
      "needs_background": "light"
     },
     "output_type": "display_data"
    },
    {
     "data": {
      "image/png": "[encoded data removed]",
      "text/plain": [
       "<Figure size 936x360 with 10 Axes>"
      ]
     },
     "metadata": {
      "needs_background": "light"
     },
     "output_type": "display_data"
    },
    {
     "data": {
      "image/png": "[encoded data removed]",
      "text/plain": [
       "<Figure size 936x360 with 10 Axes>"
      ]
     },
     "metadata": {
      "needs_background": "light"
     },
     "output_type": "display_data"
    },
    {
     "data": {
      "image/png": "[encoded data removed]",
      "text/plain": [
       "<Figure size 936x360 with 10 Axes>"
      ]
     },
     "metadata": {
      "needs_background": "light"
     },
     "output_type": "display_data"
    },
    {
     "data": {
      "image/png": "[encoded data removed]",
      "text/plain": [
       "<Figure size 748.8x360 with 8 Axes>"
      ]
     },
     "metadata": {
      "needs_background": "light"
     },
     "output_type": "display_data"
    },
    {
     "name": "stdout",
     "output_type": "stream",
     "text": [
      "\n",
      "L'image la plus proche de l'image testée dans la liste training est l'image d'index N° :  6\n",
      "\n",
      "Selon k =  38  , la classe de l'image testée est donc :  3  avec  8  sept et  30  trois parmis les voisins.\n"
     ]
    }
   ],
   "source": [
    "listetraining, listetesting = Lecture_listes(\"training\",\"testing\")\n",
    "num = input(\"\\nQuelle image voulez-vous tester (entre 0 et 9) ? : \")\n",
    "assert(num.isnumeric()),\"La réponse de l'utilisateur doit être un chiffre.\"\n",
    "num = int(num)\n",
    "ka=int(input(\"Quelle valeur de k souhaitez-vous (1 - 200) ? : \"))\n",
    "assert(ka<201 and ka>0),\"La valeur de k n'est pas comprise entre 1 et 200.\"\n",
    "list_img=[num] # On envois dans list_img les images qu'on veut voir : ici, 1 seule : l'image à tester\n",
    "Represente_graphe(listetesting,\"testing\",list_img,1,2)\n",
    "show()\n",
    "list_triee_distance_class=liste_tuple_distance_classe_imageTest_versus_data(listetesting,num,listetraining)\n",
    "list_img=[]\n",
    "for k in range(ka):\n",
    "    list_img.append(list_triee_distance_class[k][2]) # On envois dans list_img les images qu'on veut voir : ici, k images des + proches voisins\n",
    "titre=\"training. Plus proches voisins ordonnés avec k=\"+str(ka)\n",
    "Represente_graphe(listetraining,titre,list_img,13,5) \n",
    "show()\n",
    "img_plus_proche=list_triee_distance_class[0][2]\n",
    "print(\"\\nL'image la plus proche de l'image testée dans la liste training est l'image d'index N° : \",img_plus_proche)\n",
    "classe,Nb_sept,Nb_trois=deduction_classe_img_testee(list_triee_distance_class,ka)\n",
    "print(\"\\nSelon k = \",ka,\" , la classe de l'image testée est donc : \", classe,\" avec \",Nb_sept,\" sept et \",Nb_trois,\" trois parmis les voisins.\")"
   ]
  }
 ],
 "metadata": {
  "kernelspec": {
   "display_name": "Python 3",
   "language": "python",
   "name": "python3"
  },
  "language_info": {
   "codemirror_mode": {
    "name": "ipython",
    "version": 3
   },
   "file_extension": ".py",
   "mimetype": "text/x-python",
   "name": "python",
   "nbconvert_exporter": "python",
   "pygments_lexer": "ipython3",
   "version": "3.7.3"
  }
 },
 "nbformat": 4,
 "nbformat_minor": 2
}
